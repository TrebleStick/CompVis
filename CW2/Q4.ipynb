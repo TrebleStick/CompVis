{
 "cells": [
  {
   "cell_type": "code",
   "execution_count": 1,
   "metadata": {},
   "outputs": [
    {
     "name": "stderr",
     "output_type": "stream",
     "text": [
      "Using TensorFlow backend.\n"
     ]
    }
   ],
   "source": [
    "from __future__ import print_function, division\n",
    "\n",
    "from keras.datasets import mnist\n",
    "from keras.layers import Input, Dense, Reshape, Flatten, Dropout, multiply\n",
    "from keras.layers import BatchNormalization, Activation, Embedding, ZeroPadding2D, Conv2D, MaxPooling2D\n",
    "from keras.layers.advanced_activations import LeakyReLU\n",
    "from keras.layers.convolutional import UpSampling2D, Conv2D\n",
    "from keras.models import Sequential, Model\n",
    "from keras.utils import to_categorical\n",
    "from keras.optimizers import Adam\n",
    "\n",
    "import pickle\n",
    "from sklearn.model_selection import train_test_split \n",
    "from sklearn.utils import shuffle\n",
    "import matplotlib.pyplot as plt\n",
    "import pandas as pd\n",
    "import numpy as np\n",
    "import time\n",
    "import os\n",
    "import csv\n",
    "from PIL import Image\n"
   ]
  },
  {
   "cell_type": "code",
   "execution_count": null,
   "metadata": {},
   "outputs": [],
   "source": [
    "\n",
    "\n"
   ]
  },
  {
   "cell_type": "code",
   "execution_count": 2,
   "metadata": {},
   "outputs": [],
   "source": [
    "(train_set, train_label_raw), (X_test, y_test) = mnist.load_data()\n",
    "train_label = to_categorical(train_label_raw)\n",
    "train_data = np.asarray(train_set).reshape(60000, 28, 28, 1)"
   ]
  },
  {
   "cell_type": "code",
   "execution_count": 3,
   "metadata": {},
   "outputs": [],
   "source": [
    "gen_images_raw = pd.read_csv('generated_images_47600_0.923000.csv', header=None)\n",
    "X_fake_raw = np.asarray(gen_images_raw).reshape(100000, 28, 28, 1)\n",
    "\n",
    "gen_labels_raw = pd.read_csv('generated_labels_47600_0.923000.csv', header=None)\n",
    "y_fake_raw = to_categorical(gen_labels_raw)\n",
    "X_fake, y_fake = shuffle(X_fake_raw, y_fake_raw)"
   ]
  },
  {
   "cell_type": "code",
   "execution_count": 10,
   "metadata": {},
   "outputs": [],
   "source": [
    "class classifier():\n",
    "    def __init__(self):\n",
    "        print(\"new classif\")\n",
    "\n",
    "#     def train(self, totTrain=100_000, epochs=10, ratio=(1,1)): #Real to Fake\n",
    "    def train(self, epochs=10, amount=(40_000, 0)): #Real to Fake\n",
    "\n",
    "        #         model = Sequential()\n",
    "#         # model.add(Conv2D(5, kernel_size=3, activation='relu', input_shape=(28,28,1)))\n",
    "#         model.add(Conv2D(64, kernel_size=3,  input_shape=(28,28,1)))\n",
    "#         model.add(MaxPooling2D(pool_size=(4, 4)))\n",
    "#         model.add(Conv2D(32, kernel_size=3, activation='relu'))\n",
    "#         model.add(MaxPooling2D(pool_size=(2, 2)))\n",
    "#         model.add(Flatten())\n",
    "#         model.add(Dense(10, activation='softmax'))\n",
    "#         model.compile(optimizer='adam', loss='categorical_crossentropy', metrics=['accuracy'])    \n",
    "        \n",
    "        model = Sequential()\n",
    "        model.add(Conv2D(32, kernel_size=(3, 3),\n",
    "                         activation='relu',\n",
    "                         input_shape=(28,28,1)))\n",
    "        model.add(Conv2D(64, (3, 3), activation='relu'))\n",
    "        model.add(MaxPooling2D(pool_size=(2, 2)))\n",
    "        model.add(Dropout(0.25))\n",
    "        model.add(Flatten())\n",
    "        model.add(Dense(128, activation='relu'))\n",
    "        model.add(Dropout(0.5))\n",
    "        model.add(Dense(10, activation='softmax'))\n",
    "        model.compile(optimizer='RMSprop', loss='categorical_crossentropy', metrics=['accuracy']) \n",
    "\n",
    "#         model.load_weights('initial_weights_2.h5')\n",
    "\n",
    "#         sum = ratio[0] + ratio[1]\n",
    "#         realTrain = ( totTrain // sum ) * ratio[0] \n",
    "#         fakeTrain = ( totTrain // sum ) * ratio[1] \n",
    "        realTrain = amount[0]\n",
    "        fakeTrain = amount[1]\n",
    "\n",
    "        X_train_raw, X_val, y_train_raw, y_val = train_test_split(train_data, train_label, test_size=0.33, random_state=43)\n",
    "\n",
    "        X_train_cat = np.concatenate((X_train_raw[:realTrain], X_fake[:fakeTrain]))\n",
    "        y_train_cat = np.concatenate((y_train_raw[:realTrain], y_fake[:fakeTrain]))\n",
    "        X_train, y_train = shuffle(X_train_cat, y_train_cat)\n",
    "        print(X_train.shape)\n",
    "        print(X_train_raw[:realTrain].shape)\n",
    "        print(X_fake[:fakeTrain].shape)\n",
    "\n",
    "        # model.summary()\n",
    "\n",
    "        model.fit(X_train, y_train, validation_data=(X_val, y_val), epochs=epochs)\n",
    "        os.makedirs('classif_history_add/', exist_ok=True)\n",
    "\n",
    "        root = 'classif_history_add/'\n",
    "        with open(root + 'classif_'+  str(amount[0]) + '_' + str(amount[1]) + '.csv', 'w') as f:\n",
    "            for key in model.history.history.keys():\n",
    "                f.write(\"%s,%s\\n\"%(key,model.history.history[key]))\n",
    "\n",
    "        self.X_test_reshaped = X_test.reshape(10000, 28, 28, 1)\n",
    "        loss, acc = model.evaluate(self.X_test_reshaped, to_categorical(y_test))\n",
    "   \n",
    "        print(acc)\n",
    "        with open(root + 'classif_acc.csv', 'a') as b:\n",
    "            b.write(str(amount[0]) + '_' + str(amount[1]) + ',' + \"%f\\n\"%(acc))\n",
    "            "
   ]
  },
  {
   "cell_type": "code",
   "execution_count": 11,
   "metadata": {
    "scrolled": true
   },
   "outputs": [],
   "source": [
    "# ratio_array = [ (0,1), (1,0), (1,1), (2,1), (1,2), (3,1), (1,3), (5,1), (1,5), (10,1), (1,10)]\n",
    "# train_array = [ 1000, 10000 ]\n",
    "\n",
    "# amount_array = [(40_000, 0), (40_000, 10_000), (40_000, 20_000), (40_000, 40_000), (40_000, 60_000), (40_000, 80_000), (40_000, 100_000)]\n",
    "\n",
    "\n",
    "# cl = classifier()\n",
    "\n",
    "# for num in train_array:\n",
    "#     for ratio in ratio_array:\n",
    "# #         if (ratio != ratio_array[0]) & (num != train_array[0]):\n",
    "# #             del cl\n",
    "        \n",
    "#         cl.train(totTrain=num, epochs=30, ratio=ratio)\n",
    "# #         cl.evaluate()"
   ]
  },
  {
   "cell_type": "code",
   "execution_count": 19,
   "metadata": {},
   "outputs": [
    {
     "name": "stdout",
     "output_type": "stream",
     "text": [
      "new classif\n",
      "(625, 28, 28, 1)\n",
      "(500, 28, 28, 1)\n",
      "(125, 28, 28, 1)\n",
      "Train on 625 samples, validate on 19800 samples\n",
      "Epoch 1/30\n",
      "625/625 [==============================] - 4s 7ms/step - loss: 14.1514 - acc: 0.1120 - val_loss: 14.5314 - val_acc: 0.0982\n",
      "Epoch 2/30\n",
      "625/625 [==============================] - 3s 5ms/step - loss: 14.2278 - acc: 0.1136 - val_loss: 14.5633 - val_acc: 0.0965\n",
      "Epoch 3/30\n",
      "625/625 [==============================] - 2s 3ms/step - loss: 14.3387 - acc: 0.1104 - val_loss: 14.5633 - val_acc: 0.0965\n",
      "Epoch 4/30\n",
      "625/625 [==============================] - 2s 3ms/step - loss: 14.2097 - acc: 0.1184 - val_loss: 14.5633 - val_acc: 0.0965\n",
      "Epoch 5/30\n",
      "625/625 [==============================] - 2s 4ms/step - loss: 14.1839 - acc: 0.1200 - val_loss: 14.5633 - val_acc: 0.0965\n",
      "Epoch 6/30\n",
      "625/625 [==============================] - 2s 3ms/step - loss: 14.1499 - acc: 0.1200 - val_loss: 14.4119 - val_acc: 0.1059\n",
      "Epoch 7/30\n",
      "625/625 [==============================] - 2s 3ms/step - loss: 14.2060 - acc: 0.1152 - val_loss: 14.4119 - val_acc: 0.1059\n",
      "Epoch 8/30\n",
      "625/625 [==============================] - 2s 3ms/step - loss: 14.1255 - acc: 0.1184 - val_loss: 13.7586 - val_acc: 0.1434\n",
      "Epoch 9/30\n",
      "625/625 [==============================] - 2s 3ms/step - loss: 13.6296 - acc: 0.1520 - val_loss: 13.2468 - val_acc: 0.1758\n",
      "Epoch 10/30\n",
      "625/625 [==============================] - 2s 3ms/step - loss: 13.7301 - acc: 0.1440 - val_loss: 13.1338 - val_acc: 0.1826\n",
      "Epoch 11/30\n",
      "625/625 [==============================] - 2s 3ms/step - loss: 13.6381 - acc: 0.1504 - val_loss: 14.1734 - val_acc: 0.1195\n",
      "Epoch 12/30\n",
      "625/625 [==============================] - 2s 3ms/step - loss: 13.4834 - acc: 0.1584 - val_loss: 12.9761 - val_acc: 0.1941\n",
      "Epoch 13/30\n",
      "625/625 [==============================] - 2s 3ms/step - loss: 13.5080 - acc: 0.1600 - val_loss: 12.9532 - val_acc: 0.1957\n",
      "Epoch 14/30\n",
      "625/625 [==============================] - 2s 3ms/step - loss: 12.7846 - acc: 0.2032 - val_loss: 11.3543 - val_acc: 0.2936\n",
      "Epoch 15/30\n",
      "625/625 [==============================] - 2s 3ms/step - loss: 11.8128 - acc: 0.2544 - val_loss: 10.9833 - val_acc: 0.3131\n",
      "Epoch 16/30\n",
      "625/625 [==============================] - 2s 3ms/step - loss: 11.2075 - acc: 0.2944 - val_loss: 10.2554 - val_acc: 0.3548\n",
      "Epoch 17/30\n",
      "625/625 [==============================] - 2s 3ms/step - loss: 10.3168 - acc: 0.3520 - val_loss: 9.5141 - val_acc: 0.3993\n",
      "Epoch 18/30\n",
      "625/625 [==============================] - 2s 3ms/step - loss: 9.9538 - acc: 0.3712 - val_loss: 8.9217 - val_acc: 0.4384\n",
      "Epoch 19/30\n",
      "625/625 [==============================] - 2s 3ms/step - loss: 9.3405 - acc: 0.3984 - val_loss: 8.7044 - val_acc: 0.4527\n",
      "Epoch 20/30\n",
      "625/625 [==============================] - 2s 3ms/step - loss: 9.0193 - acc: 0.4288 - val_loss: 7.9828 - val_acc: 0.4859\n",
      "Epoch 21/30\n",
      "625/625 [==============================] - 2s 3ms/step - loss: 7.3638 - acc: 0.5104 - val_loss: 6.1639 - val_acc: 0.5891\n",
      "Epoch 22/30\n",
      "625/625 [==============================] - 2s 3ms/step - loss: 5.8009 - acc: 0.5920 - val_loss: 3.7190 - val_acc: 0.7047\n",
      "Epoch 23/30\n",
      "625/625 [==============================] - 2s 3ms/step - loss: 2.1492 - acc: 0.6976 - val_loss: 0.5430 - val_acc: 0.8366\n",
      "Epoch 24/30\n",
      "625/625 [==============================] - 2s 3ms/step - loss: 0.5086 - acc: 0.8400 - val_loss: 0.4528 - val_acc: 0.8695\n",
      "Epoch 25/30\n",
      "625/625 [==============================] - 2s 3ms/step - loss: 0.3361 - acc: 0.8944 - val_loss: 0.4310 - val_acc: 0.8847\n",
      "Epoch 26/30\n",
      "625/625 [==============================] - 2s 3ms/step - loss: 0.2709 - acc: 0.9248 - val_loss: 0.3940 - val_acc: 0.8942\n",
      "Epoch 27/30\n",
      "625/625 [==============================] - 2s 3ms/step - loss: 0.1601 - acc: 0.9536 - val_loss: 0.4442 - val_acc: 0.8948\n",
      "Epoch 28/30\n",
      "625/625 [==============================] - 2s 4ms/step - loss: 0.1022 - acc: 0.9760 - val_loss: 0.4535 - val_acc: 0.9066\n",
      "Epoch 29/30\n",
      "625/625 [==============================] - 2s 3ms/step - loss: 0.0774 - acc: 0.9760 - val_loss: 0.5028 - val_acc: 0.9078\n",
      "Epoch 30/30\n",
      "625/625 [==============================] - 2s 3ms/step - loss: 0.1142 - acc: 0.9744 - val_loss: 0.4939 - val_acc: 0.9030\n",
      "10000/10000 [==============================] - 1s 102us/step\n",
      "0.9064\n"
     ]
    }
   ],
   "source": [
    "# amount_array = [(40_000, 0), (40_000, 10_000), (40_000, 20_000), (40_000, 40_000), (40_000, 60_000), (40_000, 80_000), (40_000, 100_000)]\n",
    "# amount_array = [(2_000, 0), (2_000,500), (2_000, 1_000), (2_000, 2_000), (2_000, 3_000), (2_000, 4_000), (2_000, 5_000), (2_000, 10_000)]\n",
    "amount_array = [(500, 125)]\n",
    "\n",
    "cl = classifier()\n",
    "\n",
    "for tot in amount_array:\n",
    "    cl.train(epochs=30, amount=tot)\n",
    "    "
   ]
  },
  {
   "cell_type": "code",
   "execution_count": null,
   "metadata": {},
   "outputs": [],
   "source": [
    "# ratio_array = [ (1,2)]\n",
    "# train_array = [ 150_000 ]\n",
    "\n",
    "\n",
    "\n",
    "# cl = classifier()\n",
    "\n",
    "# for num in train_array:\n",
    "#     for ratio in ratio_array:\n",
    "# #         if (ratio != ratio_array[0]) & (num != train_array[0]):\n",
    "# #             del cl\n",
    "        \n",
    "#         cl.train(totTrain=num, epochs=30, ratio=ratio)\n"
   ]
  },
  {
   "cell_type": "code",
   "execution_count": null,
   "metadata": {},
   "outputs": [],
   "source": [
    "# ratio_array = [ (0,1), (1,1), (1,2), (1,3), (1,5), (1,10)]\n",
    "# train_array = [ 100_000 ]\n",
    "\n",
    "\n",
    "\n",
    "# cl = classifier()\n",
    "\n",
    "# for num in train_array:\n",
    "#     for ratio in ratio_array:\n",
    "# #         if (ratio != ratio_array[0]) & (num != train_array[0]):\n",
    "# #             del cl\n",
    "        \n",
    "#         cl.train(totTrain=num, epochs=30, ratio=ratio)\n"
   ]
  },
  {
   "cell_type": "code",
   "execution_count": null,
   "metadata": {},
   "outputs": [],
   "source": []
  },
  {
   "cell_type": "code",
   "execution_count": null,
   "metadata": {},
   "outputs": [],
   "source": []
  },
  {
   "cell_type": "code",
   "execution_count": null,
   "metadata": {},
   "outputs": [],
   "source": []
  }
 ],
 "metadata": {
  "kernelspec": {
   "display_name": "venv3",
   "language": "python",
   "name": "venv3"
  },
  "language_info": {
   "codemirror_mode": {
    "name": "ipython",
    "version": 3
   },
   "file_extension": ".py",
   "mimetype": "text/x-python",
   "name": "python",
   "nbconvert_exporter": "python",
   "pygments_lexer": "ipython3",
   "version": "3.6.6"
  }
 },
 "nbformat": 4,
 "nbformat_minor": 2
}
