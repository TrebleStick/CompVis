{
 "cells": [
  {
   "cell_type": "code",
   "execution_count": 7,
   "metadata": {},
   "outputs": [],
   "source": [
    "from __future__ import print_function, division\n",
    "\n",
    "from keras.datasets import mnist\n",
    "from keras.layers import Input, Dense, Reshape, Flatten, Dropout, multiply\n",
    "from keras.layers import BatchNormalization, Activation, Embedding, ZeroPadding2D, Conv2D, MaxPooling2D\n",
    "from keras.layers.advanced_activations import LeakyReLU\n",
    "from keras.layers.convolutional import UpSampling2D, Conv2D\n",
    "from keras.models import Sequential, Model\n",
    "from keras.utils import to_categorical\n",
    "from keras.optimizers import Adam\n",
    "\n",
    "import pickle\n",
    "from sklearn.model_selection import train_test_split \n",
    "from sklearn.utils import shuffle\n",
    "import matplotlib.pyplot as plt\n",
    "import pandas as pd\n",
    "import numpy as np\n",
    "import time\n",
    "import os\n",
    "import csv\n",
    "from PIL import Image\n"
   ]
  },
  {
   "cell_type": "code",
   "execution_count": null,
   "metadata": {},
   "outputs": [],
   "source": [
    "\n",
    "\n"
   ]
  },
  {
   "cell_type": "code",
   "execution_count": 8,
   "metadata": {},
   "outputs": [],
   "source": [
    "(train_set, train_label_raw), (X_test, y_test) = mnist.load_data()\n",
    "train_label = to_categorical(train_label_raw)\n",
    "train_data = np.asarray(train_set).reshape(60000, 28, 28, 1)"
   ]
  },
  {
   "cell_type": "code",
   "execution_count": 9,
   "metadata": {},
   "outputs": [],
   "source": [
    "gen_images_raw = pd.read_csv('generated_images_47600_0.923000.csv', header=None)\n",
    "X_fake_raw = np.asarray(gen_images_raw).reshape(100000, 28, 28, 1)\n",
    "\n",
    "gen_labels_raw = pd.read_csv('generated_labels_47600_0.923000.csv', header=None)\n",
    "y_fake_raw = to_categorical(gen_labels_raw)\n",
    "X_fake, y_fake = shuffle(X_fake_raw, y_fake_raw)"
   ]
  },
  {
   "cell_type": "code",
   "execution_count": 10,
   "metadata": {},
   "outputs": [],
   "source": [
    "class classifier():\n",
    "    def __init__(self):\n",
    "        \n",
    "        self.model = Sequential()\n",
    "        # model.add(Conv2D(5, kernel_size=3, activation='relu', input_shape=(28,28,1)))\n",
    "        self.model.add(Conv2D(64, kernel_size=3, activation='relu', input_shape=(28,28,1)))\n",
    "        self.model.add(MaxPooling2D(pool_size=(4, 4)))\n",
    "        self.model.add(Conv2D(32, kernel_size=3, activation='relu'))\n",
    "        self.model.add(MaxPooling2D(pool_size=(2, 2)))\n",
    "        self.model.add(Flatten())\n",
    "        self.model.add(Dense(10, activation='softmax'))\n",
    "        self.model.compile(optimizer='adam', loss='categorical_crossentropy', metrics=['accuracy'])    \n",
    "\n",
    "    def train(self, totTrain=100_000, epochs=10, ratio=(1,1)): #Real to Fake\n",
    "        sum = ratio[0] + ratio[1]\n",
    "        realTrain = ( totTrain // sum ) * ratio[0] \n",
    "        fakeTrain = ( totTrain // sum ) * ratio[1] \n",
    "\n",
    "        X_train_raw, X_val, y_train_raw, y_val = train_test_split(train_data, train_label, test_size=0.33, random_state=43)\n",
    "\n",
    "        X_train = np.concatenate((X_train_raw[:realTrain], X_fake[:fakeTrain]))\n",
    "        y_train = np.concatenate((y_train_raw[:realTrain], y_fake[:fakeTrain]))\n",
    "        \n",
    "        print(X_train.shape)\n",
    "        print(X_train_raw[:realTrain].shape)\n",
    "        print(X_fake[:fakeTrain].shape)\n",
    "\n",
    "        # model.summary()\n",
    "\n",
    "        self.model.fit(X_train, y_train, validation_data=(X_val, y_val), epochs=epochs)\n",
    "        os.makedirs('classif_history/', exist_ok=True)\n",
    "\n",
    "        root = 'classif_history/'\n",
    "        with open(root + 'classif_'+ str(totTrain) + '_' + str(ratio[0]) + '_' + str(ratio[1]) + '.csv', 'w') as f:\n",
    "            for key in self.model.history.history.keys():\n",
    "                f.write(\"%s,%s\\n\"%(key,self.model.history.history[key]))\n",
    "\n",
    "        X_test_reshaped = X_test.reshape(10000, 28, 28, 1)\n",
    "        loss, acc = self.model.evaluate(X_test_reshaped, to_categorical(y_test))\n",
    "        print(acc)\n",
    "        with open(root + 'classif_acc.csv', 'a') as b:\n",
    "            b.write(str(totTrain) + ',' + str(ratio[0]) + ',' + str(ratio[1]) + ',' + \"%f\\n\"%(acc))\n",
    "            "
   ]
  },
  {
   "cell_type": "code",
   "execution_count": null,
   "metadata": {
    "scrolled": true
   },
   "outputs": [
    {
     "name": "stdout",
     "output_type": "stream",
     "text": [
      "(1000, 28, 28, 1)\n",
      "(0, 28, 28, 1)\n",
      "(1000, 28, 28, 1)\n",
      "Train on 1000 samples, validate on 19800 samples\n",
      "Epoch 1/10\n",
      "1000/1000 [==============================] - 3s 3ms/step - loss: 14.3773 - acc: 0.1080 - val_loss: 14.4892 - val_acc: 0.1011\n",
      "Epoch 2/10\n",
      "1000/1000 [==============================] - 2s 2ms/step - loss: 14.3773 - acc: 0.1080 - val_loss: 14.4892 - val_acc: 0.1011\n",
      "Epoch 3/10\n",
      "1000/1000 [==============================] - 2s 2ms/step - loss: 14.3773 - acc: 0.1080 - val_loss: 14.4892 - val_acc: 0.1011\n",
      "Epoch 4/10\n",
      "1000/1000 [==============================] - 1s 1ms/step - loss: 14.3773 - acc: 0.1080 - val_loss: 14.4892 - val_acc: 0.1011\n",
      "Epoch 5/10\n",
      "1000/1000 [==============================] - 2s 2ms/step - loss: 14.3773 - acc: 0.1080 - val_loss: 14.4892 - val_acc: 0.1011\n",
      "Epoch 6/10\n",
      "1000/1000 [==============================] - 1s 1ms/step - loss: 14.3773 - acc: 0.1080 - val_loss: 14.4892 - val_acc: 0.1011\n",
      "Epoch 7/10\n",
      "1000/1000 [==============================] - 2s 2ms/step - loss: 14.3773 - acc: 0.1080 - val_loss: 14.4892 - val_acc: 0.1011\n",
      "Epoch 8/10\n",
      "1000/1000 [==============================] - 2s 2ms/step - loss: 14.3773 - acc: 0.1080 - val_loss: 14.4892 - val_acc: 0.1011\n",
      "Epoch 9/10\n",
      "1000/1000 [==============================] - 2s 2ms/step - loss: 14.3773 - acc: 0.1080 - val_loss: 14.4892 - val_acc: 0.1011\n",
      "Epoch 10/10\n",
      "1000/1000 [==============================] - 2s 2ms/step - loss: 14.3773 - acc: 0.1080 - val_loss: 14.4892 - val_acc: 0.1011\n",
      "10000/10000 [==============================] - 1s 81us/step\n",
      "0.1032\n",
      "(1000, 28, 28, 1)\n",
      "(1000, 28, 28, 1)\n",
      "(0, 28, 28, 1)\n",
      "Train on 1000 samples, validate on 19800 samples\n",
      "Epoch 1/10\n",
      "1000/1000 [==============================] - 2s 2ms/step - loss: 14.2695 - acc: 0.1120 - val_loss: 14.4119 - val_acc: 0.1059\n",
      "Epoch 2/10\n",
      "1000/1000 [==============================] - 1s 1ms/step - loss: 14.2645 - acc: 0.1150 - val_loss: 14.4119 - val_acc: 0.1059\n",
      "Epoch 3/10\n",
      "1000/1000 [==============================] - 1s 1ms/step - loss: 14.2645 - acc: 0.1150 - val_loss: 14.4119 - val_acc: 0.1059\n",
      "Epoch 4/10\n",
      "1000/1000 [==============================] - 1s 1ms/step - loss: 14.2645 - acc: 0.1150 - val_loss: 14.4119 - val_acc: 0.1059\n",
      "Epoch 5/10\n",
      "1000/1000 [==============================] - 1s 1ms/step - loss: 14.2645 - acc: 0.1150 - val_loss: 14.4119 - val_acc: 0.1059\n",
      "Epoch 6/10\n",
      "1000/1000 [==============================] - 1s 1ms/step - loss: 14.2645 - acc: 0.1150 - val_loss: 14.4119 - val_acc: 0.1059\n",
      "Epoch 7/10\n",
      "1000/1000 [==============================] - 1s 1ms/step - loss: 14.2645 - acc: 0.1150 - val_loss: 14.4119 - val_acc: 0.1059\n",
      "Epoch 8/10\n",
      "1000/1000 [==============================] - 1s 1ms/step - loss: 14.2645 - acc: 0.1150 - val_loss: 14.4119 - val_acc: 0.1059\n",
      "Epoch 9/10\n",
      "1000/1000 [==============================] - 2s 2ms/step - loss: 14.2645 - acc: 0.1150 - val_loss: 14.4119 - val_acc: 0.1059\n",
      "Epoch 10/10\n",
      "1000/1000 [==============================] - 2s 2ms/step - loss: 14.2645 - acc: 0.1150 - val_loss: 14.4119 - val_acc: 0.1059\n",
      "10000/10000 [==============================] - 1s 98us/step\n",
      "0.1028\n",
      "(1000, 28, 28, 1)\n",
      "(500, 28, 28, 1)\n",
      "(500, 28, 28, 1)\n",
      "Train on 1000 samples, validate on 19800 samples\n",
      "Epoch 1/10\n",
      "1000/1000 [==============================] - 2s 2ms/step - loss: 14.5665 - acc: 0.0960 - val_loss: 14.5006 - val_acc: 0.1004\n",
      "Epoch 2/10\n",
      "1000/1000 [==============================] - 2s 2ms/step - loss: 14.5385 - acc: 0.0980 - val_loss: 14.5006 - val_acc: 0.1004\n",
      "Epoch 3/10\n",
      "1000/1000 [==============================] - 2s 2ms/step - loss: 14.5385 - acc: 0.0980 - val_loss: 14.5006 - val_acc: 0.1004\n",
      "Epoch 4/10\n",
      "1000/1000 [==============================] - 2s 2ms/step - loss: 14.5385 - acc: 0.0980 - val_loss: 14.5006 - val_acc: 0.1004\n",
      "Epoch 5/10\n",
      "1000/1000 [==============================] - 2s 2ms/step - loss: 14.5385 - acc: 0.0980 - val_loss: 14.5006 - val_acc: 0.1004\n",
      "Epoch 6/10\n",
      " 960/1000 [===========================>..] - ETA: 0s - loss: 14.6070 - acc: 0.0938"
     ]
    }
   ],
   "source": [
    "ratio_array = [ (0,1), (1,0), (1,1), (2,1), (1,2), (3,1), (1,3), (5,1), (1,5), (10,1), (1,10)]\n",
    "train_array = [ 1000 ]\n",
    "\n",
    "\n",
    "\n",
    "\n",
    "for num in train_array:\n",
    "    for ratio in ratio_array:\n",
    "        \n",
    "#         del cl\n",
    "        if (ratio != ratio_array[0]) & (num != train_array[0]):\n",
    "            del cl\n",
    "        cl = classifier()\n",
    "\n",
    "\n",
    "#         cl.reset_weights()\n",
    "        cl.train(totTrain=num, epochs=10, ratio=ratio)\n"
   ]
  },
  {
   "cell_type": "code",
   "execution_count": 6,
   "metadata": {},
   "outputs": [
    {
     "name": "stdout",
     "output_type": "stream",
     "text": [
      "(140200, 28, 28, 1)\n",
      "(40200, 28, 28, 1)\n",
      "(100000, 28, 28, 1)\n"
     ]
    },
    {
     "ename": "RuntimeError",
     "evalue": "You must compile a model before training/testing. Use `model.compile(optimizer, loss)`.",
     "output_type": "error",
     "traceback": [
      "\u001b[1;31m---------------------------------------------------------------------------\u001b[0m",
      "\u001b[1;31mRuntimeError\u001b[0m                              Traceback (most recent call last)",
      "\u001b[1;32m<ipython-input-6-d16a83eb4b32>\u001b[0m in \u001b[0;36m<module>\u001b[1;34m\u001b[0m\n\u001b[0;32m     10\u001b[0m \u001b[1;31m#             del cl\u001b[0m\u001b[1;33m\u001b[0m\u001b[1;33m\u001b[0m\u001b[0m\n\u001b[0;32m     11\u001b[0m         \u001b[0mcl\u001b[0m \u001b[1;33m=\u001b[0m \u001b[0mclassifier\u001b[0m\u001b[1;33m(\u001b[0m\u001b[1;33m)\u001b[0m\u001b[1;33m\u001b[0m\u001b[0m\n\u001b[1;32m---> 12\u001b[1;33m         \u001b[0mcl\u001b[0m\u001b[1;33m.\u001b[0m\u001b[0mtrain\u001b[0m\u001b[1;33m(\u001b[0m\u001b[0mtotTrain\u001b[0m\u001b[1;33m=\u001b[0m\u001b[0mnum\u001b[0m\u001b[1;33m,\u001b[0m \u001b[0mepochs\u001b[0m\u001b[1;33m=\u001b[0m\u001b[1;36m25\u001b[0m\u001b[1;33m,\u001b[0m \u001b[0mratio\u001b[0m\u001b[1;33m=\u001b[0m\u001b[0mratio\u001b[0m\u001b[1;33m)\u001b[0m\u001b[1;33m\u001b[0m\u001b[0m\n\u001b[0m",
      "\u001b[1;32m<ipython-input-4-af6124815ede>\u001b[0m in \u001b[0;36mtrain\u001b[1;34m(self, totTrain, epochs, ratio)\u001b[0m\n\u001b[0;32m     30\u001b[0m         \u001b[1;31m# model.summary()\u001b[0m\u001b[1;33m\u001b[0m\u001b[1;33m\u001b[0m\u001b[0m\n\u001b[0;32m     31\u001b[0m \u001b[1;33m\u001b[0m\u001b[0m\n\u001b[1;32m---> 32\u001b[1;33m         \u001b[0mself\u001b[0m\u001b[1;33m.\u001b[0m\u001b[0mmodel\u001b[0m\u001b[1;33m.\u001b[0m\u001b[0mfit\u001b[0m\u001b[1;33m(\u001b[0m\u001b[0mX_train\u001b[0m\u001b[1;33m,\u001b[0m \u001b[0my_train\u001b[0m\u001b[1;33m,\u001b[0m \u001b[0mvalidation_data\u001b[0m\u001b[1;33m=\u001b[0m\u001b[1;33m(\u001b[0m\u001b[0mX_val\u001b[0m\u001b[1;33m,\u001b[0m \u001b[0my_val\u001b[0m\u001b[1;33m)\u001b[0m\u001b[1;33m,\u001b[0m \u001b[0mepochs\u001b[0m\u001b[1;33m=\u001b[0m\u001b[0mepochs\u001b[0m\u001b[1;33m)\u001b[0m\u001b[1;33m\u001b[0m\u001b[0m\n\u001b[0m\u001b[0;32m     33\u001b[0m         \u001b[0mos\u001b[0m\u001b[1;33m.\u001b[0m\u001b[0mmakedirs\u001b[0m\u001b[1;33m(\u001b[0m\u001b[1;34m'classif_history/'\u001b[0m\u001b[1;33m,\u001b[0m \u001b[0mexist_ok\u001b[0m\u001b[1;33m=\u001b[0m\u001b[1;32mTrue\u001b[0m\u001b[1;33m)\u001b[0m\u001b[1;33m\u001b[0m\u001b[0m\n\u001b[0;32m     34\u001b[0m \u001b[1;33m\u001b[0m\u001b[0m\n",
      "\u001b[1;32md:\\ryan\\uni\\fyp\\venv3\\lib\\site-packages\\keras\\engine\\training.py\u001b[0m in \u001b[0;36mfit\u001b[1;34m(self, x, y, batch_size, epochs, verbose, callbacks, validation_split, validation_data, shuffle, class_weight, sample_weight, initial_epoch, steps_per_epoch, validation_steps, **kwargs)\u001b[0m\n\u001b[0;32m    950\u001b[0m             \u001b[0msample_weight\u001b[0m\u001b[1;33m=\u001b[0m\u001b[0msample_weight\u001b[0m\u001b[1;33m,\u001b[0m\u001b[1;33m\u001b[0m\u001b[0m\n\u001b[0;32m    951\u001b[0m             \u001b[0mclass_weight\u001b[0m\u001b[1;33m=\u001b[0m\u001b[0mclass_weight\u001b[0m\u001b[1;33m,\u001b[0m\u001b[1;33m\u001b[0m\u001b[0m\n\u001b[1;32m--> 952\u001b[1;33m             batch_size=batch_size)\n\u001b[0m\u001b[0;32m    953\u001b[0m         \u001b[1;31m# Prepare validation data.\u001b[0m\u001b[1;33m\u001b[0m\u001b[1;33m\u001b[0m\u001b[0m\n\u001b[0;32m    954\u001b[0m         \u001b[0mdo_validation\u001b[0m \u001b[1;33m=\u001b[0m \u001b[1;32mFalse\u001b[0m\u001b[1;33m\u001b[0m\u001b[0m\n",
      "\u001b[1;32md:\\ryan\\uni\\fyp\\venv3\\lib\\site-packages\\keras\\engine\\training.py\u001b[0m in \u001b[0;36m_standardize_user_data\u001b[1;34m(self, x, y, sample_weight, class_weight, check_array_lengths, batch_size)\u001b[0m\n\u001b[0;32m    679\u001b[0m         \u001b[1;32mif\u001b[0m \u001b[0my\u001b[0m \u001b[1;32mis\u001b[0m \u001b[1;32mnot\u001b[0m \u001b[1;32mNone\u001b[0m\u001b[1;33m:\u001b[0m\u001b[1;33m\u001b[0m\u001b[0m\n\u001b[0;32m    680\u001b[0m             \u001b[1;32mif\u001b[0m \u001b[1;32mnot\u001b[0m \u001b[0mself\u001b[0m\u001b[1;33m.\u001b[0m\u001b[0moptimizer\u001b[0m\u001b[1;33m:\u001b[0m\u001b[1;33m\u001b[0m\u001b[0m\n\u001b[1;32m--> 681\u001b[1;33m                 raise RuntimeError('You must compile a model before '\n\u001b[0m\u001b[0;32m    682\u001b[0m                                    \u001b[1;34m'training/testing. '\u001b[0m\u001b[1;33m\u001b[0m\u001b[0m\n\u001b[0;32m    683\u001b[0m                                    'Use `model.compile(optimizer, loss)`.')\n",
      "\u001b[1;31mRuntimeError\u001b[0m: You must compile a model before training/testing. Use `model.compile(optimizer, loss)`."
     ]
    }
   ],
   "source": [
    "ratio_array = [ (1,2) ]\n",
    "train_array = [ 150_000 ]\n",
    "\n",
    "\n",
    "\n",
    "for num in train_array:\n",
    "    for ratio in ratio_array:\n",
    "        del cl\n",
    "#         if (ratio != ratio_array[0]) & (num != train_array[0]):\n",
    "#             del cl\n",
    "        cl = classifier()\n",
    "        cl.train(totTrain=num, epochs=25, ratio=ratio)\n"
   ]
  },
  {
   "cell_type": "code",
   "execution_count": null,
   "metadata": {},
   "outputs": [],
   "source": []
  },
  {
   "cell_type": "code",
   "execution_count": null,
   "metadata": {},
   "outputs": [],
   "source": []
  },
  {
   "cell_type": "code",
   "execution_count": null,
   "metadata": {},
   "outputs": [],
   "source": []
  }
 ],
 "metadata": {
  "kernelspec": {
   "display_name": "venv3",
   "language": "python",
   "name": "venv3"
  },
  "language_info": {
   "codemirror_mode": {
    "name": "ipython",
    "version": 3
   },
   "file_extension": ".py",
   "mimetype": "text/x-python",
   "name": "python",
   "nbconvert_exporter": "python",
   "pygments_lexer": "ipython3",
   "version": "3.6.6"
  }
 },
 "nbformat": 4,
 "nbformat_minor": 2
}
