{
 "cells": [
  {
   "cell_type": "code",
   "execution_count": null,
   "metadata": {},
   "outputs": [],
   "source": [
    "from __future__ import print_function, division\n",
    "\n",
    "from keras.datasets import mnist\n",
    "from keras.layers import Input, Dense, Reshape, Flatten, Dropout, multiply\n",
    "from keras.layers import BatchNormalization, Activation, Embedding, ZeroPadding2D, Conv2D, MaxPooling2D\n",
    "from keras.layers.advanced_activations import LeakyReLU\n",
    "from keras.layers.convolutional import UpSampling2D, Conv2D\n",
    "from keras.models import Sequential, Model\n",
    "from keras.utils import to_categorical\n",
    "from keras.optimizers import Adam\n",
    "\n",
    "import pickle\n",
    "from sklearn.model_selection import train_test_split \n",
    "from sklearn.utils import shuffle\n",
    "import matplotlib.pyplot as plt\n",
    "import pandas as pd\n",
    "import numpy as np\n",
    "import time\n",
    "import os\n",
    "import csv\n",
    "from PIL import Image\n"
   ]
  },
  {
   "cell_type": "code",
   "execution_count": null,
   "metadata": {},
   "outputs": [],
   "source": [
    "\n",
    "\n"
   ]
  },
  {
   "cell_type": "code",
   "execution_count": null,
   "metadata": {},
   "outputs": [],
   "source": [
    "(train_set, train_label_raw), (X_test, y_test) = mnist.load_data()\n",
    "train_label = to_categorical(train_label_raw)\n",
    "train_data = np.asarray(train_set).reshape(60000, 28, 28, 1)"
   ]
  },
  {
   "cell_type": "code",
   "execution_count": null,
   "metadata": {},
   "outputs": [],
   "source": [
    "gen_images_raw = pd.read_csv('generated_images_47600_0.923000.csv', header=None)\n",
    "X_fake_raw = np.asarray(gen_images_raw).reshape(100000, 28, 28, 1)\n",
    "\n",
    "gen_labels_raw = pd.read_csv('generated_labels_47600_0.923000.csv', header=None)\n",
    "y_fake_raw = to_categorical(gen_labels_raw)\n",
    "X_fake, y_fake = shuffle(X_fake_raw, y_fake_raw)"
   ]
  },
  {
   "cell_type": "code",
   "execution_count": null,
   "metadata": {},
   "outputs": [],
   "source": [
    "class classifier():\n",
    "    def __init__(self):\n",
    "        print(\"new classif\")\n",
    "\n",
    "    def train(self, totTrain=100_000, epochs=10, ratio=(1,1)): #Real to Fake\n",
    "        model = Sequential()\n",
    "        # model.add(Conv2D(5, kernel_size=3, activation='relu', input_shape=(28,28,1)))\n",
    "        model.add(Conv2D(64, kernel_size=3, activation='relu', input_shape=(28,28,1)))\n",
    "        model.add(MaxPooling2D(pool_size=(4, 4)))\n",
    "        model.add(Conv2D(32, kernel_size=3, activation='relu'))\n",
    "        model.add(MaxPooling2D(pool_size=(2, 2)))\n",
    "        model.add(Flatten())\n",
    "        model.add(Dense(10, activation='softmax'))\n",
    "        model.compile(optimizer='adam', loss='categorical_crossentropy', metrics=['accuracy'])    \n",
    "\n",
    "        model.load_weights('initial_weights.h5')\n",
    "        sum = ratio[0] + ratio[1]\n",
    "        realTrain = ( totTrain // sum ) * ratio[0] \n",
    "        fakeTrain = ( totTrain // sum ) * ratio[1] \n",
    "\n",
    "        X_train_raw, X_val, y_train_raw, y_val = train_test_split(train_data, train_label, test_size=0.33, random_state=43)\n",
    "\n",
    "        X_train = np.concatenate((X_train_raw[:realTrain], X_fake[:fakeTrain]))\n",
    "        y_train = np.concatenate((y_train_raw[:realTrain], y_fake[:fakeTrain]))\n",
    "        \n",
    "        print(X_train.shape)\n",
    "        print(X_train_raw[:realTrain].shape)\n",
    "        print(X_fake[:fakeTrain].shape)\n",
    "\n",
    "        # model.summary()\n",
    "\n",
    "        model.fit(X_train, y_train, validation_data=(X_val, y_val), epochs=epochs)\n",
    "        os.makedirs('classif_history/', exist_ok=True)\n",
    "\n",
    "        root = 'classif_history/'\n",
    "        with open(root + 'classif_'+ str(totTrain) + '_' + str(ratio[0]) + '_' + str(ratio[1]) + '.csv', 'w') as f:\n",
    "            for key in model.history.history.keys():\n",
    "                f.write(\"%s,%s\\n\"%(key,model.history.history[key]))\n",
    "\n",
    "        self.X_test_reshaped = X_test.reshape(10000, 28, 28, 1)\n",
    "        loss, acc = self.model.evaluate(self.X_test_reshaped, to_categorical(y_test))\n",
    "   \n",
    "        print(acc)\n",
    "        with open(root + 'classif_acc.csv', 'a') as b:\n",
    "            b.write(str(totTrain) + ',' + str(ratio[0]) + ',' + str(ratio[1]) + ',' + \"%f\\n\"%(acc))\n",
    "            "
   ]
  },
  {
   "cell_type": "code",
   "execution_count": null,
   "metadata": {
    "scrolled": true
   },
   "outputs": [],
   "source": [
    "ratio_array = [ (0,1), (1,0), (1,1), (2,1), (1,2), (3,1), (1,3), (5,1), (1,5), (10,1), (1,10)]\n",
    "train_array = [ 10000 ]\n",
    "\n",
    "\n",
    "\n",
    "cl = classifier()\n",
    "\n",
    "for num in train_array:\n",
    "    for ratio in ratio_array:\n",
    "#         if (ratio != ratio_array[0]) & (num != train_array[0]):\n",
    "#             del cl\n",
    "        \n",
    "        cl.train(totTrain=num, epochs=10, ratio=ratio)\n",
    "#         cl.evaluate()"
   ]
  },
  {
   "cell_type": "code",
   "execution_count": null,
   "metadata": {},
   "outputs": [],
   "source": [
    "# ratio_array = [ (1,2) ]\n",
    "# train_array = [ 150_000 ]\n",
    "\n",
    "\n",
    "\n",
    "# for num in train_array:\n",
    "#     for ratio in ratio_array:\n",
    "#         del cl\n",
    "# #         if (ratio != ratio_array[0]) & (num != train_array[0]):\n",
    "# #             del cl\n",
    "#         cl = classifier()\n",
    "#         cl.train(totTrain=num, epochs=25, ratio=ratio)\n"
   ]
  },
  {
   "cell_type": "code",
   "execution_count": null,
   "metadata": {},
   "outputs": [],
   "source": []
  },
  {
   "cell_type": "code",
   "execution_count": null,
   "metadata": {},
   "outputs": [],
   "source": []
  },
  {
   "cell_type": "code",
   "execution_count": null,
   "metadata": {},
   "outputs": [],
   "source": []
  }
 ],
 "metadata": {
  "kernelspec": {
   "display_name": "venv3",
   "language": "python",
   "name": "venv3"
  },
  "language_info": {
   "codemirror_mode": {
    "name": "ipython",
    "version": 3
   },
   "file_extension": ".py",
   "mimetype": "text/x-python",
   "name": "python",
   "nbconvert_exporter": "python",
   "pygments_lexer": "ipython3",
   "version": "3.6.6"
  }
 },
 "nbformat": 4,
 "nbformat_minor": 2
}
