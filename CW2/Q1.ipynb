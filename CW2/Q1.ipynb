{
 "cells": [
  {
   "cell_type": "markdown",
   "metadata": {},
   "source": [
    "### https://www.kaggle.com/vincentman0403/dcgan-on-mnist \n"
   ]
  },
  {
   "cell_type": "code",
   "execution_count": 1,
   "metadata": {
    "_cell_guid": "79c7e3d0-c299-4dcb-8224-4455121ee9b0",
    "_uuid": "d629ff2d2480ee46fbb7e2d37f6b5fab8052498a"
   },
   "outputs": [
    {
     "name": "stderr",
     "output_type": "stream",
     "text": [
      "Using TensorFlow backend.\n"
     ]
    }
   ],
   "source": [
    "from keras.datasets import mnist\n",
    "from keras.layers import Input, Dense, Reshape, Flatten, Dropout\n",
    "from keras.layers import BatchNormalization, Activation, ZeroPadding2D\n",
    "from keras.layers.advanced_activations import LeakyReLU\n",
    "from keras.layers.convolutional import UpSampling2D, Conv2D\n",
    "from keras.models import Sequential, Model\n",
    "from keras.optimizers import Adam\n",
    "import matplotlib.pyplot as plt\n",
    "import numpy as np\n",
    "import time\n",
    "import os\n",
    "import csv\n",
    "from PIL import Image"
   ]
  },
  {
   "cell_type": "code",
   "execution_count": 2,
   "metadata": {
    "_uuid": "38443112fd55bef54d7807495b69d66353bfccae"
   },
   "outputs": [
    {
     "name": "stdout",
     "output_type": "stream",
     "text": [
      "WARNING:tensorflow:From C:\\Users\\Jack\\venv\\lib\\site-packages\\tensorflow\\python\\framework\\op_def_library.py:263: colocate_with (from tensorflow.python.framework.ops) is deprecated and will be removed in a future version.\n",
      "Instructions for updating:\n",
      "Colocations handled automatically by placer.\n"
     ]
    }
   ],
   "source": [
    "img_rows = 28\n",
    "img_cols = 28\n",
    "channels = 1\n",
    "img_shape = (img_rows, img_cols, channels)\n",
    "latent_dim = 100\n",
    "root = 'DCGAN_results/'\n",
    "\n",
    "# plotting data structure\n",
    "train_hist = {}\n",
    "train_hist['D_losses'] = []\n",
    "train_hist['G_losses'] = []\n",
    "train_hist['per_epoch_ptimes'] = []\n",
    "train_hist['total_ptime'] = []\n",
    "train_hist['accuracy'] = []\n",
    "train_hist['Model'] = []\n",
    "\n",
    "\n",
    "optimizer = Adam(0.0002, 0.5)"
   ]
  },
  {
   "cell_type": "code",
   "execution_count": 3,
   "metadata": {
    "_uuid": "804d0ab8433b786150c48cd6bd990d74705cb2a8"
   },
   "outputs": [],
   "source": [
    "def build_generator(pick_model='Deep_BN'):\n",
    "    if (pick_model == 'Deep_BN') | (pick_model == 'Deeper_D_BN'):\n",
    "        model = Sequential()\n",
    "        model.add(Dense(128 * 7 * 7, activation=\"relu\", input_dim=latent_dim))\n",
    "        model.add(Reshape((7, 7, 128)))\n",
    "        model.add(UpSampling2D())\n",
    "        model.add(Conv2D(128, kernel_size=3, padding=\"same\"))\n",
    "        model.add(BatchNormalization(momentum=0.8))\n",
    "        model.add(Activation(\"relu\"))\n",
    "        model.add(UpSampling2D())\n",
    "        model.add(Conv2D(64, kernel_size=3, padding=\"same\"))\n",
    "        model.add(BatchNormalization(momentum=0.8))\n",
    "        model.add(Activation(\"relu\"))\n",
    "        model.add(Conv2D(channels, kernel_size=3, padding=\"same\"))\n",
    "        model.add(Activation(\"tanh\"))\n",
    "        model.summary()\n",
    "    \n",
    "#     elif (pick_model == 'Shallow_BN') | (pick_model == 'Deeper_D_BN'): \n",
    "\n",
    "#     elif pick_model == 'Shallow_Drop':\n",
    "    \n",
    "#     elif pick_model == 'Drop':\n",
    "        \n",
    "        \n",
    "        \n",
    "    noise = Input(shape=(latent_dim,))\n",
    "    img = model(noise)\n",
    "    \n",
    "    return Model(noise, img)"
   ]
  },
  {
   "cell_type": "markdown",
   "metadata": {
    "_uuid": "a9ea4efecf7d4faeb0a37a649c079ebe88396908"
   },
   "source": [
    "## Define a function to build a discriminator"
   ]
  },
  {
   "cell_type": "code",
   "execution_count": 4,
   "metadata": {
    "_uuid": "b9aa34a385dac406b50e7e122b45483c98c0cffa"
   },
   "outputs": [],
   "source": [
    "def build_discriminator(pick_model='Deep_BN'):\n",
    "    if (pick_model == 'Deep_BN') | (pick_model == 'Deeper_D_BN'):\n",
    "        model = Sequential()\n",
    "        model.add(Conv2D(32, kernel_size=3, strides=2, input_shape=img_shape, padding=\"same\"))\n",
    "        model.add(LeakyReLU(alpha=0.2))\n",
    "        model.add(Dropout(0.25))\n",
    "        model.add(Conv2D(64, kernel_size=3, strides=2, padding=\"same\"))\n",
    "        model.add(ZeroPadding2D(padding=((0, 1), (0, 1))))\n",
    "        model.add(BatchNormalization(momentum=0.8))\n",
    "        model.add(LeakyReLU(alpha=0.2))\n",
    "        model.add(Dropout(0.25))\n",
    "        model.add(Conv2D(128, kernel_size=3, strides=2, padding=\"same\"))\n",
    "        model.add(BatchNormalization(momentum=0.8))\n",
    "        model.add(LeakyReLU(alpha=0.2))\n",
    "        model.add(Dropout(0.25))\n",
    "        model.add(Conv2D(256, kernel_size=3, strides=1, padding=\"same\"))\n",
    "        model.add(BatchNormalization(momentum=0.8))\n",
    "        model.add(LeakyReLU(alpha=0.2))\n",
    "        model.add(Dropout(0.25))\n",
    "        model.add(Flatten())\n",
    "        model.add(Dense(1, activation='sigmoid'))\n",
    "        model.summary()\n",
    "        \n",
    "#     elif (pick_model == 'Shallow_BN') | (pick_model == 'Deeper_G_BN'): \n",
    "\n",
    "#     elif pick_model == 'Shallow_Drop':\n",
    "    \n",
    "#     elif pick_model == 'Drop':\n",
    "    \n",
    "    \n",
    "    img = Input(shape=img_shape)\n",
    "    validity = model(img)\n",
    "    return Model(img, validity)"
   ]
  },
  {
   "cell_type": "markdown",
   "metadata": {
    "_uuid": "e1d9927bd8601eedf144b6f46f12cc4da0d045b5"
   },
   "source": [
    "## Define a function to train GAN"
   ]
  },
  {
   "cell_type": "code",
   "execution_count": 5,
   "metadata": {
    "_uuid": "6592840f1e019f1d6fd3e709a0885389d252164f"
   },
   "outputs": [],
   "source": [
    "def train(epochs, batch_size=128, save_interval=50, ratio = (1,1), pick_model = 'Deep_BN'): ## ratio G:D\n",
    "    os.makedirs('images', exist_ok=True)\n",
    "    \n",
    "    # Load the dataset\n",
    "    (X_train, _), (_, _) = mnist.load_data()\n",
    "\n",
    "    # Rescale -1 to 1\n",
    "    X_train = X_train / 127.5 - 1.\n",
    "    X_train = np.expand_dims(X_train, axis=3)\n",
    "\n",
    "    # Adversarial ground truths\n",
    "    valid = np.ones((batch_size, 1))\n",
    "    fake = np.zeros((batch_size, 1))\n",
    "    \n",
    "    \n",
    "    for epoch in range(epochs):\n",
    "        # Select a random real images\n",
    "        epoch_start_time = time.time()\n",
    "        idx = np.random.randint(0, X_train.shape[0], batch_size)\n",
    "        real_imgs = X_train[idx]\n",
    "\n",
    "        # Sample noise and generate a batch of fake images\n",
    "        noise = np.random.normal(0, 1, (batch_size, latent_dim))\n",
    "        fake_imgs = generator.predict(noise)\n",
    "          \n",
    "        #implement ratio of D  \n",
    "        if epoch % ratio[0] == 0:\n",
    "            # Train the discriminator\n",
    "            D_loss_real = discriminator.train_on_batch(real_imgs, valid)\n",
    "            D_loss_fake = discriminator.train_on_batch(fake_imgs, fake)\n",
    "            D_loss = 0.5 * np.add(D_loss_real, D_loss_fake)\n",
    "        #implement ratio of G\n",
    "        if epoch % ratio[1] == 0:\n",
    "            # Train the generator\n",
    "            g_loss = combined.train_on_batch(noise, valid)\n",
    "            \n",
    "        # get epoch timing\n",
    "        epoch_end_time = time.time()\n",
    "        per_epoch_ptime = epoch_end_time - epoch_start_time\n",
    "            \n",
    "        # save data for plotting\n",
    "        train_hist['D_losses'].append(D_loss[0])\n",
    "        train_hist['G_losses'].append(g_loss)\n",
    "        train_hist['per_epoch_ptimes'].append(per_epoch_ptime)    \n",
    "        train_hist['accuracy'].append(100 * D_loss[1])\n",
    "        train_hist['Model'].append(pick_model)\n",
    "        \n",
    "        # If at save interval\n",
    "        if epoch % save_interval == 0:\n",
    "            # Print the progress\n",
    "            print(\"%d [D loss: %f, acc.: %.2f%%] [G loss: %f] [epoch time: %.2f]\" % (epoch, D_loss[0], 100 * D_loss[1], g_loss, per_epoch_ptime))\n",
    "            # Save generated image samples\n",
    "            save_imgs(epoch, pick_model, ratio)"
   ]
  },
  {
   "cell_type": "code",
   "execution_count": 6,
   "metadata": {
    "_uuid": "b03c0413ddcde5125fa8fdb22bfe47e1bd668606"
   },
   "outputs": [],
   "source": [
    "def save_imgs(epoch, pick_model, ratio):\n",
    "    r, c = 5, 5\n",
    "    noise = np.random.normal(0, 1, (r * c, latent_dim))\n",
    "    gen_imgs = generator.predict(noise)\n",
    "\n",
    "    # Rescale images 0 - 1\n",
    "    gen_imgs = 0.5 * gen_imgs + 0.5\n",
    "\n",
    "    fig, axs = plt.subplots(r, c)\n",
    "    cnt = 0\n",
    "    for i in range(r):\n",
    "        for j in range(c):\n",
    "            axs[i, j].imshow(gen_imgs[cnt, :, :, 0], cmap='gray')\n",
    "            axs[i, j].axis('off')\n",
    "            cnt += 1\n",
    "    os.makedirs(root + 'images/'+  pick_model + '/'+ str(ratio[0]) + '_' + str(ratio[1]) + '/' , exist_ok=True)\n",
    "    fig.savefig(root + 'images/'+  pick_model + '/'+ str(ratio[0]) + '_' + str(ratio[1]) + '/' + str(epoch) + '.png')\n",
    "    plt.close()"
   ]
  },
  {
   "cell_type": "code",
   "execution_count": 12,
   "metadata": {},
   "outputs": [],
   "source": [
    "def show_train_hist(hist, show = False, save = False, path = 'Train_hist.png'):\n",
    "    x = range(len(hist['D_losses']))\n",
    "    \n",
    "    y1 = hist['D_losses']\n",
    "    y2 = hist['G_losses']\n",
    "\n",
    "    plt.plot(x, y1, label='D_loss')\n",
    "    plt.plot(x, y2, label='G_loss')\n",
    "\n",
    "    plt.xlabel('Epoch')\n",
    "    plt.ylabel('Loss')\n",
    "\n",
    "    plt.legend(loc=4)\n",
    "    plt.grid(True)\n",
    "    plt.tight_layout()\n",
    "    \n",
    "    \n",
    "    if save:\n",
    "        \n",
    "        plt.savefig(path)\n",
    "\n",
    "    if show:\n",
    "        plt.show()\n",
    "    else:\n",
    "        plt.close()"
   ]
  },
  {
   "cell_type": "markdown",
   "metadata": {
    "_uuid": "ccbe0a280b9fc16e47a63dc5e5edae8909f7569c"
   },
   "source": [
    "## Train GAN"
   ]
  },
  {
   "cell_type": "code",
   "execution_count": 8,
   "metadata": {
    "_uuid": "8a52d992f11a034e0cc0cabaddeb2ae93f160dc6"
   },
   "outputs": [
    {
     "name": "stdout",
     "output_type": "stream",
     "text": [
      "WARNING:tensorflow:From C:\\Users\\Jack\\venv\\lib\\site-packages\\keras\\backend\\tensorflow_backend.py:3445: calling dropout (from tensorflow.python.ops.nn_ops) with keep_prob is deprecated and will be removed in a future version.\n",
      "Instructions for updating:\n",
      "Please use `rate` instead of `keep_prob`. Rate should be set to `rate = 1 - keep_prob`.\n",
      "_________________________________________________________________\n",
      "Layer (type)                 Output Shape              Param #   \n",
      "=================================================================\n",
      "conv2d_1 (Conv2D)            (None, 14, 14, 32)        320       \n",
      "_________________________________________________________________\n",
      "leaky_re_lu_1 (LeakyReLU)    (None, 14, 14, 32)        0         \n",
      "_________________________________________________________________\n",
      "dropout_1 (Dropout)          (None, 14, 14, 32)        0         \n",
      "_________________________________________________________________\n",
      "conv2d_2 (Conv2D)            (None, 7, 7, 64)          18496     \n",
      "_________________________________________________________________\n",
      "zero_padding2d_1 (ZeroPaddin (None, 8, 8, 64)          0         \n",
      "_________________________________________________________________\n",
      "batch_normalization_1 (Batch (None, 8, 8, 64)          256       \n",
      "_________________________________________________________________\n",
      "leaky_re_lu_2 (LeakyReLU)    (None, 8, 8, 64)          0         \n",
      "_________________________________________________________________\n",
      "dropout_2 (Dropout)          (None, 8, 8, 64)          0         \n",
      "_________________________________________________________________\n",
      "conv2d_3 (Conv2D)            (None, 4, 4, 128)         73856     \n",
      "_________________________________________________________________\n",
      "batch_normalization_2 (Batch (None, 4, 4, 128)         512       \n",
      "_________________________________________________________________\n",
      "leaky_re_lu_3 (LeakyReLU)    (None, 4, 4, 128)         0         \n",
      "_________________________________________________________________\n",
      "dropout_3 (Dropout)          (None, 4, 4, 128)         0         \n",
      "_________________________________________________________________\n",
      "conv2d_4 (Conv2D)            (None, 4, 4, 256)         295168    \n",
      "_________________________________________________________________\n",
      "batch_normalization_3 (Batch (None, 4, 4, 256)         1024      \n",
      "_________________________________________________________________\n",
      "leaky_re_lu_4 (LeakyReLU)    (None, 4, 4, 256)         0         \n",
      "_________________________________________________________________\n",
      "dropout_4 (Dropout)          (None, 4, 4, 256)         0         \n",
      "_________________________________________________________________\n",
      "flatten_1 (Flatten)          (None, 4096)              0         \n",
      "_________________________________________________________________\n",
      "dense_1 (Dense)              (None, 1)                 4097      \n",
      "=================================================================\n",
      "Total params: 393,729\n",
      "Trainable params: 392,833\n",
      "Non-trainable params: 896\n",
      "_________________________________________________________________\n",
      "_________________________________________________________________\n",
      "Layer (type)                 Output Shape              Param #   \n",
      "=================================================================\n",
      "dense_2 (Dense)              (None, 6272)              633472    \n",
      "_________________________________________________________________\n",
      "reshape_1 (Reshape)          (None, 7, 7, 128)         0         \n",
      "_________________________________________________________________\n",
      "up_sampling2d_1 (UpSampling2 (None, 14, 14, 128)       0         \n",
      "_________________________________________________________________\n",
      "conv2d_5 (Conv2D)            (None, 14, 14, 128)       147584    \n",
      "_________________________________________________________________\n",
      "batch_normalization_4 (Batch (None, 14, 14, 128)       512       \n",
      "_________________________________________________________________\n",
      "activation_1 (Activation)    (None, 14, 14, 128)       0         \n",
      "_________________________________________________________________\n",
      "up_sampling2d_2 (UpSampling2 (None, 28, 28, 128)       0         \n",
      "_________________________________________________________________\n",
      "conv2d_6 (Conv2D)            (None, 28, 28, 64)        73792     \n",
      "_________________________________________________________________\n",
      "batch_normalization_5 (Batch (None, 28, 28, 64)        256       \n",
      "_________________________________________________________________\n",
      "activation_2 (Activation)    (None, 28, 28, 64)        0         \n",
      "_________________________________________________________________\n",
      "conv2d_7 (Conv2D)            (None, 28, 28, 1)         577       \n",
      "_________________________________________________________________\n",
      "activation_3 (Activation)    (None, 28, 28, 1)         0         \n",
      "=================================================================\n",
      "Total params: 856,193\n",
      "Trainable params: 855,809\n",
      "Non-trainable params: 384\n",
      "_________________________________________________________________\n",
      "WARNING:tensorflow:From C:\\Users\\Jack\\venv\\lib\\site-packages\\tensorflow\\python\\ops\\math_ops.py:3066: to_int32 (from tensorflow.python.ops.math_ops) is deprecated and will be removed in a future version.\n",
      "Instructions for updating:\n",
      "Use tf.cast instead.\n"
     ]
    },
    {
     "name": "stderr",
     "output_type": "stream",
     "text": [
      "C:\\Users\\Jack\\venv\\lib\\site-packages\\keras\\engine\\training.py:490: UserWarning: Discrepancy between trainable weights and collected trainable weights, did you set `model.trainable` without calling `model.compile` after ?\n",
      "  'Discrepancy between trainable weights and collected trainable'\n"
     ]
    },
    {
     "name": "stdout",
     "output_type": "stream",
     "text": [
      "0 [D loss: 0.942181, acc.: 40.62%] [G loss: 1.353452] [epoch time: 4.63]\n",
      "200 [D loss: 0.836402, acc.: 45.31%] [G loss: 1.159899] [epoch time: 0.05]\n",
      "400 [D loss: 0.629150, acc.: 59.38%] [G loss: 0.968065] [epoch time: 0.05]\n",
      "600 [D loss: 0.855238, acc.: 42.19%] [G loss: 0.945349] [epoch time: 0.05]\n",
      "800 [D loss: 0.659742, acc.: 57.81%] [G loss: 1.018792] [epoch time: 0.05]\n",
      "1000 [D loss: 0.757975, acc.: 54.69%] [G loss: 0.953643] [epoch time: 0.05]\n",
      "1200 [D loss: 0.623840, acc.: 71.88%] [G loss: 1.142944] [epoch time: 0.05]\n",
      "1400 [D loss: 0.738908, acc.: 48.44%] [G loss: 0.814822] [epoch time: 0.05]\n",
      "1600 [D loss: 0.708316, acc.: 50.00%] [G loss: 1.029882] [epoch time: 0.05]\n",
      "1800 [D loss: 0.735274, acc.: 53.12%] [G loss: 0.936292] [epoch time: 0.06]\n",
      "2000 [D loss: 0.648713, acc.: 60.94%] [G loss: 0.941551] [epoch time: 0.05]\n",
      "2200 [D loss: 0.618159, acc.: 62.50%] [G loss: 1.080542] [epoch time: 0.05]\n",
      "2400 [D loss: 0.750311, acc.: 48.44%] [G loss: 0.879783] [epoch time: 0.05]\n",
      "2600 [D loss: 0.635869, acc.: 64.06%] [G loss: 1.074141] [epoch time: 0.05]\n",
      "2800 [D loss: 0.639828, acc.: 62.50%] [G loss: 0.918268] [epoch time: 0.05]\n",
      "3000 [D loss: 0.659167, acc.: 60.94%] [G loss: 0.962966] [epoch time: 0.05]\n",
      "3200 [D loss: 0.574908, acc.: 73.44%] [G loss: 1.114076] [epoch time: 0.05]\n",
      "3400 [D loss: 0.614244, acc.: 64.06%] [G loss: 1.073399] [epoch time: 0.05]\n",
      "3600 [D loss: 0.629219, acc.: 71.88%] [G loss: 0.972089] [epoch time: 0.05]\n",
      "3800 [D loss: 0.573678, acc.: 76.56%] [G loss: 0.981988] [epoch time: 0.05]\n",
      "4000 [D loss: 0.696651, acc.: 54.69%] [G loss: 0.932012] [epoch time: 0.05]\n",
      "4200 [D loss: 0.686032, acc.: 56.25%] [G loss: 1.010559] [epoch time: 0.05]\n",
      "4400 [D loss: 0.668033, acc.: 50.00%] [G loss: 0.862996] [epoch time: 0.05]\n",
      "4600 [D loss: 0.670692, acc.: 56.25%] [G loss: 1.132149] [epoch time: 0.05]\n",
      "4800 [D loss: 0.593942, acc.: 68.75%] [G loss: 1.019810] [epoch time: 0.05]\n",
      "5000 [D loss: 0.699011, acc.: 57.81%] [G loss: 0.974568] [epoch time: 0.05]\n",
      "5200 [D loss: 0.534511, acc.: 71.88%] [G loss: 1.061882] [epoch time: 0.05]\n",
      "5400 [D loss: 0.724370, acc.: 51.56%] [G loss: 0.971295] [epoch time: 0.05]\n",
      "5600 [D loss: 0.669071, acc.: 65.62%] [G loss: 1.225423] [epoch time: 0.05]\n",
      "5800 [D loss: 0.768114, acc.: 42.19%] [G loss: 0.950963] [epoch time: 0.05]\n",
      "6000 [D loss: 0.692776, acc.: 56.25%] [G loss: 0.851323] [epoch time: 0.05]\n",
      "6200 [D loss: 0.607987, acc.: 62.50%] [G loss: 1.084309] [epoch time: 0.05]\n",
      "6400 [D loss: 0.652968, acc.: 56.25%] [G loss: 1.001100] [epoch time: 0.05]\n",
      "6600 [D loss: 0.597003, acc.: 71.88%] [G loss: 1.040386] [epoch time: 0.05]\n",
      "6800 [D loss: 0.662238, acc.: 59.38%] [G loss: 0.878478] [epoch time: 0.05]\n",
      "7000 [D loss: 0.627248, acc.: 71.88%] [G loss: 0.858386] [epoch time: 0.05]\n",
      "7200 [D loss: 0.558472, acc.: 70.31%] [G loss: 1.056549] [epoch time: 0.05]\n",
      "7400 [D loss: 0.585950, acc.: 70.31%] [G loss: 1.241280] [epoch time: 0.05]\n",
      "7600 [D loss: 0.664814, acc.: 54.69%] [G loss: 0.973330] [epoch time: 0.05]\n",
      "7800 [D loss: 0.702261, acc.: 60.94%] [G loss: 1.101228] [epoch time: 0.05]\n",
      "8000 [D loss: 0.529119, acc.: 75.00%] [G loss: 1.108279] [epoch time: 0.05]\n",
      "8200 [D loss: 0.597493, acc.: 65.62%] [G loss: 1.001328] [epoch time: 0.05]\n",
      "8400 [D loss: 0.644825, acc.: 59.38%] [G loss: 1.069268] [epoch time: 0.05]\n",
      "8600 [D loss: 0.585018, acc.: 70.31%] [G loss: 1.265895] [epoch time: 0.05]\n",
      "8800 [D loss: 0.640554, acc.: 56.25%] [G loss: 0.986927] [epoch time: 0.05]\n",
      "9000 [D loss: 0.633247, acc.: 65.62%] [G loss: 0.763591] [epoch time: 0.05]\n",
      "9200 [D loss: 0.808133, acc.: 45.31%] [G loss: 0.910395] [epoch time: 0.05]\n",
      "9400 [D loss: 0.585328, acc.: 65.62%] [G loss: 1.160558] [epoch time: 0.05]\n",
      "9600 [D loss: 0.669250, acc.: 56.25%] [G loss: 1.045413] [epoch time: 0.05]\n",
      "9800 [D loss: 0.584132, acc.: 60.94%] [G loss: 1.072827] [epoch time: 0.05]\n",
      "10000 [D loss: 0.545855, acc.: 73.44%] [G loss: 1.230402] [epoch time: 0.05]\n",
      "10200 [D loss: 0.644868, acc.: 56.25%] [G loss: 1.182087] [epoch time: 0.05]\n",
      "10400 [D loss: 0.582770, acc.: 67.19%] [G loss: 0.949508] [epoch time: 0.05]\n",
      "10600 [D loss: 0.862450, acc.: 45.31%] [G loss: 0.978356] [epoch time: 0.05]\n",
      "10800 [D loss: 0.639590, acc.: 67.19%] [G loss: 0.667398] [epoch time: 0.05]\n",
      "11000 [D loss: 0.564610, acc.: 73.44%] [G loss: 1.076193] [epoch time: 0.05]\n",
      "11200 [D loss: 0.518805, acc.: 79.69%] [G loss: 1.066740] [epoch time: 0.05]\n",
      "11400 [D loss: 0.579150, acc.: 70.31%] [G loss: 0.900295] [epoch time: 0.05]\n",
      "11600 [D loss: 0.528864, acc.: 78.12%] [G loss: 1.279611] [epoch time: 0.05]\n",
      "11800 [D loss: 0.701485, acc.: 50.00%] [G loss: 1.149123] [epoch time: 0.05]\n",
      "12000 [D loss: 0.793852, acc.: 40.62%] [G loss: 1.054343] [epoch time: 0.05]\n",
      "12200 [D loss: 0.644883, acc.: 56.25%] [G loss: 1.010611] [epoch time: 0.05]\n",
      "12400 [D loss: 0.629021, acc.: 64.06%] [G loss: 1.189192] [epoch time: 0.05]\n",
      "12600 [D loss: 0.532439, acc.: 71.88%] [G loss: 1.059183] [epoch time: 0.05]\n",
      "12800 [D loss: 0.652023, acc.: 65.62%] [G loss: 1.047136] [epoch time: 0.05]\n",
      "13000 [D loss: 0.598841, acc.: 67.19%] [G loss: 1.194044] [epoch time: 0.05]\n",
      "13200 [D loss: 0.612646, acc.: 71.88%] [G loss: 1.113500] [epoch time: 0.05]\n",
      "13400 [D loss: 0.587666, acc.: 68.75%] [G loss: 0.994614] [epoch time: 0.05]\n",
      "13600 [D loss: 0.685210, acc.: 57.81%] [G loss: 1.130077] [epoch time: 0.05]\n",
      "13800 [D loss: 0.578775, acc.: 71.88%] [G loss: 0.910015] [epoch time: 0.05]\n",
      "14000 [D loss: 0.616816, acc.: 62.50%] [G loss: 0.928235] [epoch time: 0.05]\n",
      "14200 [D loss: 0.761810, acc.: 48.44%] [G loss: 1.066964] [epoch time: 0.05]\n",
      "14400 [D loss: 0.536062, acc.: 73.44%] [G loss: 1.103081] [epoch time: 0.05]\n",
      "14600 [D loss: 0.642402, acc.: 67.19%] [G loss: 1.185825] [epoch time: 0.05]\n",
      "14800 [D loss: 0.521165, acc.: 81.25%] [G loss: 0.857256] [epoch time: 0.05]\n",
      "15000 [D loss: 0.701740, acc.: 51.56%] [G loss: 1.092045] [epoch time: 0.05]\n",
      "15200 [D loss: 0.533189, acc.: 82.81%] [G loss: 1.222144] [epoch time: 0.05]\n",
      "15400 [D loss: 0.573304, acc.: 67.19%] [G loss: 1.083191] [epoch time: 0.05]\n",
      "15600 [D loss: 0.700059, acc.: 53.12%] [G loss: 0.985548] [epoch time: 0.05]\n",
      "15800 [D loss: 0.806134, acc.: 42.19%] [G loss: 1.210439] [epoch time: 0.05]\n",
      "16000 [D loss: 0.639614, acc.: 65.62%] [G loss: 1.095642] [epoch time: 0.05]\n",
      "16200 [D loss: 0.746331, acc.: 53.12%] [G loss: 0.820992] [epoch time: 0.05]\n",
      "16400 [D loss: 0.728099, acc.: 51.56%] [G loss: 1.101499] [epoch time: 0.05]\n",
      "16600 [D loss: 0.547837, acc.: 78.12%] [G loss: 0.726942] [epoch time: 0.05]\n",
      "16800 [D loss: 0.844876, acc.: 37.50%] [G loss: 0.998661] [epoch time: 0.05]\n",
      "17000 [D loss: 0.544549, acc.: 75.00%] [G loss: 1.028909] [epoch time: 0.05]\n",
      "17200 [D loss: 0.757459, acc.: 48.44%] [G loss: 1.408850] [epoch time: 0.05]\n",
      "17400 [D loss: 0.699880, acc.: 59.38%] [G loss: 0.906350] [epoch time: 0.05]\n",
      "17600 [D loss: 0.766645, acc.: 48.44%] [G loss: 1.182565] [epoch time: 0.05]\n",
      "17800 [D loss: 0.688481, acc.: 65.62%] [G loss: 1.072869] [epoch time: 0.05]\n",
      "18000 [D loss: 0.722286, acc.: 57.81%] [G loss: 1.557481] [epoch time: 0.05]\n",
      "18200 [D loss: 0.692978, acc.: 51.56%] [G loss: 1.111027] [epoch time: 0.05]\n",
      "18400 [D loss: 0.505356, acc.: 71.88%] [G loss: 0.986388] [epoch time: 0.05]\n",
      "18600 [D loss: 0.558025, acc.: 65.62%] [G loss: 1.296990] [epoch time: 0.05]\n",
      "18800 [D loss: 0.445650, acc.: 84.38%] [G loss: 1.262897] [epoch time: 0.05]\n",
      "19000 [D loss: 0.523388, acc.: 78.12%] [G loss: 1.093532] [epoch time: 0.05]\n",
      "19200 [D loss: 0.572003, acc.: 75.00%] [G loss: 1.137828] [epoch time: 0.05]\n",
      "19400 [D loss: 0.650324, acc.: 60.94%] [G loss: 0.932366] [epoch time: 0.05]\n",
      "19600 [D loss: 0.622518, acc.: 60.94%] [G loss: 1.005601] [epoch time: 0.05]\n",
      "19800 [D loss: 0.681793, acc.: 56.25%] [G loss: 1.282285] [epoch time: 0.05]\n",
      "elapsed training time: 17 min, 27 sec \n"
     ]
    },
    {
     "ename": "PermissionError",
     "evalue": "[Errno 13] Permission denied: 'DCGAN_results/hist/1_1Deep_BN.png'",
     "output_type": "error",
     "traceback": [
      "\u001b[1;31m---------------------------------------------------------------------------\u001b[0m",
      "\u001b[1;31mPermissionError\u001b[0m                           Traceback (most recent call last)",
      "\u001b[1;32m<ipython-input-8-cddbf77865ae>\u001b[0m in \u001b[0;36m<module>\u001b[1;34m\u001b[0m\n\u001b[0;32m     43\u001b[0m         \u001b[0mprint\u001b[0m\u001b[1;33m(\u001b[0m\u001b[0melapsed_train_time\u001b[0m\u001b[1;33m)\u001b[0m\u001b[1;33m\u001b[0m\u001b[1;33m\u001b[0m\u001b[0m\n\u001b[0;32m     44\u001b[0m \u001b[1;33m\u001b[0m\u001b[0m\n\u001b[1;32m---> 45\u001b[1;33m         \u001b[0mshow_train_hist\u001b[0m\u001b[1;33m(\u001b[0m\u001b[0mtrain_hist\u001b[0m\u001b[1;33m,\u001b[0m \u001b[0msave\u001b[0m\u001b[1;33m=\u001b[0m\u001b[1;32mTrue\u001b[0m\u001b[1;33m,\u001b[0m \u001b[0mpath\u001b[0m\u001b[1;33m=\u001b[0m\u001b[0mroot\u001b[0m \u001b[1;33m+\u001b[0m \u001b[1;34m'hist/'\u001b[0m \u001b[1;33m+\u001b[0m \u001b[0mstr\u001b[0m\u001b[1;33m(\u001b[0m\u001b[0mratio\u001b[0m\u001b[1;33m[\u001b[0m\u001b[1;36m0\u001b[0m\u001b[1;33m]\u001b[0m\u001b[1;33m)\u001b[0m \u001b[1;33m+\u001b[0m \u001b[1;34m'_'\u001b[0m \u001b[1;33m+\u001b[0m \u001b[0mstr\u001b[0m\u001b[1;33m(\u001b[0m\u001b[0mratio\u001b[0m\u001b[1;33m[\u001b[0m\u001b[1;36m1\u001b[0m\u001b[1;33m]\u001b[0m\u001b[1;33m)\u001b[0m \u001b[1;33m+\u001b[0m \u001b[0mpick_model\u001b[0m \u001b[1;33m+\u001b[0m\u001b[1;34m'.png'\u001b[0m\u001b[1;33m)\u001b[0m\u001b[1;33m\u001b[0m\u001b[1;33m\u001b[0m\u001b[0m\n\u001b[0m\u001b[0;32m     46\u001b[0m         \u001b[1;31m# save hist data to csv\u001b[0m\u001b[1;33m\u001b[0m\u001b[1;33m\u001b[0m\u001b[1;33m\u001b[0m\u001b[0m\n\u001b[0;32m     47\u001b[0m         \u001b[1;32mwith\u001b[0m \u001b[0mopen\u001b[0m\u001b[1;33m(\u001b[0m\u001b[0mroot\u001b[0m\u001b[1;33m+\u001b[0m \u001b[1;34m'hist_csv/'\u001b[0m \u001b[1;33m+\u001b[0m \u001b[0mstr\u001b[0m\u001b[1;33m(\u001b[0m\u001b[0mratio\u001b[0m\u001b[1;33m[\u001b[0m\u001b[1;36m0\u001b[0m\u001b[1;33m]\u001b[0m\u001b[1;33m)\u001b[0m \u001b[1;33m+\u001b[0m \u001b[1;34m'_'\u001b[0m \u001b[1;33m+\u001b[0m \u001b[0mstr\u001b[0m\u001b[1;33m(\u001b[0m\u001b[0mratio\u001b[0m\u001b[1;33m[\u001b[0m\u001b[1;36m1\u001b[0m\u001b[1;33m]\u001b[0m\u001b[1;33m)\u001b[0m \u001b[1;33m+\u001b[0m \u001b[0mpick_model\u001b[0m \u001b[1;33m+\u001b[0m\u001b[1;34m'.csv'\u001b[0m\u001b[1;33m,\u001b[0m \u001b[1;34m'w'\u001b[0m\u001b[1;33m)\u001b[0m \u001b[1;32mas\u001b[0m \u001b[0mf\u001b[0m\u001b[1;33m:\u001b[0m\u001b[1;33m\u001b[0m\u001b[1;33m\u001b[0m\u001b[0m\n",
      "\u001b[1;32m<ipython-input-7-50b2fa22294d>\u001b[0m in \u001b[0;36mshow_train_hist\u001b[1;34m(hist, show, save, path)\u001b[0m\n\u001b[0;32m     18\u001b[0m     \u001b[1;32mif\u001b[0m \u001b[0msave\u001b[0m\u001b[1;33m:\u001b[0m\u001b[1;33m\u001b[0m\u001b[1;33m\u001b[0m\u001b[0m\n\u001b[0;32m     19\u001b[0m         \u001b[0mos\u001b[0m\u001b[1;33m.\u001b[0m\u001b[0mmakedirs\u001b[0m\u001b[1;33m(\u001b[0m\u001b[0mpath\u001b[0m\u001b[1;33m,\u001b[0m \u001b[0mexist_ok\u001b[0m\u001b[1;33m=\u001b[0m\u001b[1;32mTrue\u001b[0m\u001b[1;33m)\u001b[0m\u001b[1;33m\u001b[0m\u001b[1;33m\u001b[0m\u001b[0m\n\u001b[1;32m---> 20\u001b[1;33m         \u001b[0mplt\u001b[0m\u001b[1;33m.\u001b[0m\u001b[0msavefig\u001b[0m\u001b[1;33m(\u001b[0m\u001b[0mpath\u001b[0m\u001b[1;33m)\u001b[0m\u001b[1;33m\u001b[0m\u001b[1;33m\u001b[0m\u001b[0m\n\u001b[0m\u001b[0;32m     21\u001b[0m \u001b[1;33m\u001b[0m\u001b[0m\n\u001b[0;32m     22\u001b[0m     \u001b[1;32mif\u001b[0m \u001b[0mshow\u001b[0m\u001b[1;33m:\u001b[0m\u001b[1;33m\u001b[0m\u001b[1;33m\u001b[0m\u001b[0m\n",
      "\u001b[1;32m~\\AppData\\Local\\Programs\\Python\\Python37\\lib\\site-packages\\matplotlib\\pyplot.py\u001b[0m in \u001b[0;36msavefig\u001b[1;34m(*args, **kwargs)\u001b[0m\n\u001b[0;32m    687\u001b[0m \u001b[1;32mdef\u001b[0m \u001b[0msavefig\u001b[0m\u001b[1;33m(\u001b[0m\u001b[1;33m*\u001b[0m\u001b[0margs\u001b[0m\u001b[1;33m,\u001b[0m \u001b[1;33m**\u001b[0m\u001b[0mkwargs\u001b[0m\u001b[1;33m)\u001b[0m\u001b[1;33m:\u001b[0m\u001b[1;33m\u001b[0m\u001b[1;33m\u001b[0m\u001b[0m\n\u001b[0;32m    688\u001b[0m     \u001b[0mfig\u001b[0m \u001b[1;33m=\u001b[0m \u001b[0mgcf\u001b[0m\u001b[1;33m(\u001b[0m\u001b[1;33m)\u001b[0m\u001b[1;33m\u001b[0m\u001b[1;33m\u001b[0m\u001b[0m\n\u001b[1;32m--> 689\u001b[1;33m     \u001b[0mres\u001b[0m \u001b[1;33m=\u001b[0m \u001b[0mfig\u001b[0m\u001b[1;33m.\u001b[0m\u001b[0msavefig\u001b[0m\u001b[1;33m(\u001b[0m\u001b[1;33m*\u001b[0m\u001b[0margs\u001b[0m\u001b[1;33m,\u001b[0m \u001b[1;33m**\u001b[0m\u001b[0mkwargs\u001b[0m\u001b[1;33m)\u001b[0m\u001b[1;33m\u001b[0m\u001b[1;33m\u001b[0m\u001b[0m\n\u001b[0m\u001b[0;32m    690\u001b[0m     \u001b[0mfig\u001b[0m\u001b[1;33m.\u001b[0m\u001b[0mcanvas\u001b[0m\u001b[1;33m.\u001b[0m\u001b[0mdraw_idle\u001b[0m\u001b[1;33m(\u001b[0m\u001b[1;33m)\u001b[0m   \u001b[1;31m# need this if 'transparent=True' to reset colors\u001b[0m\u001b[1;33m\u001b[0m\u001b[1;33m\u001b[0m\u001b[0m\n\u001b[0;32m    691\u001b[0m     \u001b[1;32mreturn\u001b[0m \u001b[0mres\u001b[0m\u001b[1;33m\u001b[0m\u001b[1;33m\u001b[0m\u001b[0m\n",
      "\u001b[1;32m~\\AppData\\Local\\Programs\\Python\\Python37\\lib\\site-packages\\matplotlib\\figure.py\u001b[0m in \u001b[0;36msavefig\u001b[1;34m(self, fname, frameon, transparent, **kwargs)\u001b[0m\n\u001b[0;32m   2092\u001b[0m             \u001b[0mself\u001b[0m\u001b[1;33m.\u001b[0m\u001b[0mset_frameon\u001b[0m\u001b[1;33m(\u001b[0m\u001b[0mframeon\u001b[0m\u001b[1;33m)\u001b[0m\u001b[1;33m\u001b[0m\u001b[1;33m\u001b[0m\u001b[0m\n\u001b[0;32m   2093\u001b[0m \u001b[1;33m\u001b[0m\u001b[0m\n\u001b[1;32m-> 2094\u001b[1;33m         \u001b[0mself\u001b[0m\u001b[1;33m.\u001b[0m\u001b[0mcanvas\u001b[0m\u001b[1;33m.\u001b[0m\u001b[0mprint_figure\u001b[0m\u001b[1;33m(\u001b[0m\u001b[0mfname\u001b[0m\u001b[1;33m,\u001b[0m \u001b[1;33m**\u001b[0m\u001b[0mkwargs\u001b[0m\u001b[1;33m)\u001b[0m\u001b[1;33m\u001b[0m\u001b[1;33m\u001b[0m\u001b[0m\n\u001b[0m\u001b[0;32m   2095\u001b[0m \u001b[1;33m\u001b[0m\u001b[0m\n\u001b[0;32m   2096\u001b[0m         \u001b[1;32mif\u001b[0m \u001b[0mframeon\u001b[0m\u001b[1;33m:\u001b[0m\u001b[1;33m\u001b[0m\u001b[1;33m\u001b[0m\u001b[0m\n",
      "\u001b[1;32m~\\AppData\\Local\\Programs\\Python\\Python37\\lib\\site-packages\\matplotlib\\backend_bases.py\u001b[0m in \u001b[0;36mprint_figure\u001b[1;34m(self, filename, dpi, facecolor, edgecolor, orientation, format, bbox_inches, **kwargs)\u001b[0m\n\u001b[0;32m   2073\u001b[0m                     \u001b[0morientation\u001b[0m\u001b[1;33m=\u001b[0m\u001b[0morientation\u001b[0m\u001b[1;33m,\u001b[0m\u001b[1;33m\u001b[0m\u001b[1;33m\u001b[0m\u001b[0m\n\u001b[0;32m   2074\u001b[0m                     \u001b[0mbbox_inches_restore\u001b[0m\u001b[1;33m=\u001b[0m\u001b[0m_bbox_inches_restore\u001b[0m\u001b[1;33m,\u001b[0m\u001b[1;33m\u001b[0m\u001b[1;33m\u001b[0m\u001b[0m\n\u001b[1;32m-> 2075\u001b[1;33m                     **kwargs)\n\u001b[0m\u001b[0;32m   2076\u001b[0m             \u001b[1;32mfinally\u001b[0m\u001b[1;33m:\u001b[0m\u001b[1;33m\u001b[0m\u001b[1;33m\u001b[0m\u001b[0m\n\u001b[0;32m   2077\u001b[0m                 \u001b[1;32mif\u001b[0m \u001b[0mbbox_inches\u001b[0m \u001b[1;32mand\u001b[0m \u001b[0mrestore_bbox\u001b[0m\u001b[1;33m:\u001b[0m\u001b[1;33m\u001b[0m\u001b[1;33m\u001b[0m\u001b[0m\n",
      "\u001b[1;32m~\\AppData\\Local\\Programs\\Python\\Python37\\lib\\site-packages\\matplotlib\\backends\\backend_agg.py\u001b[0m in \u001b[0;36mprint_png\u001b[1;34m(self, filename_or_obj, *args, **kwargs)\u001b[0m\n\u001b[0;32m    519\u001b[0m \u001b[1;33m\u001b[0m\u001b[0m\n\u001b[0;32m    520\u001b[0m         \u001b[1;32mwith\u001b[0m \u001b[0mcbook\u001b[0m\u001b[1;33m.\u001b[0m\u001b[0m_setattr_cm\u001b[0m\u001b[1;33m(\u001b[0m\u001b[0mrenderer\u001b[0m\u001b[1;33m,\u001b[0m \u001b[0mdpi\u001b[0m\u001b[1;33m=\u001b[0m\u001b[0mself\u001b[0m\u001b[1;33m.\u001b[0m\u001b[0mfigure\u001b[0m\u001b[1;33m.\u001b[0m\u001b[0mdpi\u001b[0m\u001b[1;33m)\u001b[0m\u001b[1;33m,\u001b[0m\u001b[0;31m \u001b[0m\u001b[0;31m\\\u001b[0m\u001b[1;33m\u001b[0m\u001b[1;33m\u001b[0m\u001b[0m\n\u001b[1;32m--> 521\u001b[1;33m                 \u001b[0mcbook\u001b[0m\u001b[1;33m.\u001b[0m\u001b[0mopen_file_cm\u001b[0m\u001b[1;33m(\u001b[0m\u001b[0mfilename_or_obj\u001b[0m\u001b[1;33m,\u001b[0m \u001b[1;34m\"wb\"\u001b[0m\u001b[1;33m)\u001b[0m \u001b[1;32mas\u001b[0m \u001b[0mfh\u001b[0m\u001b[1;33m:\u001b[0m\u001b[1;33m\u001b[0m\u001b[1;33m\u001b[0m\u001b[0m\n\u001b[0m\u001b[0;32m    522\u001b[0m             _png.write_png(renderer._renderer, fh,\n\u001b[0;32m    523\u001b[0m                             self.figure.dpi, metadata=metadata)\n",
      "\u001b[1;32m~\\AppData\\Local\\Programs\\Python\\Python37\\Lib\\contextlib.py\u001b[0m in \u001b[0;36m__enter__\u001b[1;34m(self)\u001b[0m\n\u001b[0;32m    110\u001b[0m         \u001b[1;32mdel\u001b[0m \u001b[0mself\u001b[0m\u001b[1;33m.\u001b[0m\u001b[0margs\u001b[0m\u001b[1;33m,\u001b[0m \u001b[0mself\u001b[0m\u001b[1;33m.\u001b[0m\u001b[0mkwds\u001b[0m\u001b[1;33m,\u001b[0m \u001b[0mself\u001b[0m\u001b[1;33m.\u001b[0m\u001b[0mfunc\u001b[0m\u001b[1;33m\u001b[0m\u001b[1;33m\u001b[0m\u001b[0m\n\u001b[0;32m    111\u001b[0m         \u001b[1;32mtry\u001b[0m\u001b[1;33m:\u001b[0m\u001b[1;33m\u001b[0m\u001b[1;33m\u001b[0m\u001b[0m\n\u001b[1;32m--> 112\u001b[1;33m             \u001b[1;32mreturn\u001b[0m \u001b[0mnext\u001b[0m\u001b[1;33m(\u001b[0m\u001b[0mself\u001b[0m\u001b[1;33m.\u001b[0m\u001b[0mgen\u001b[0m\u001b[1;33m)\u001b[0m\u001b[1;33m\u001b[0m\u001b[1;33m\u001b[0m\u001b[0m\n\u001b[0m\u001b[0;32m    113\u001b[0m         \u001b[1;32mexcept\u001b[0m \u001b[0mStopIteration\u001b[0m\u001b[1;33m:\u001b[0m\u001b[1;33m\u001b[0m\u001b[1;33m\u001b[0m\u001b[0m\n\u001b[0;32m    114\u001b[0m             \u001b[1;32mraise\u001b[0m \u001b[0mRuntimeError\u001b[0m\u001b[1;33m(\u001b[0m\u001b[1;34m\"generator didn't yield\"\u001b[0m\u001b[1;33m)\u001b[0m \u001b[1;32mfrom\u001b[0m \u001b[1;32mNone\u001b[0m\u001b[1;33m\u001b[0m\u001b[1;33m\u001b[0m\u001b[0m\n",
      "\u001b[1;32m~\\AppData\\Local\\Programs\\Python\\Python37\\lib\\site-packages\\matplotlib\\cbook\\__init__.py\u001b[0m in \u001b[0;36mopen_file_cm\u001b[1;34m(path_or_file, mode, encoding)\u001b[0m\n\u001b[0;32m    405\u001b[0m \u001b[1;32mdef\u001b[0m \u001b[0mopen_file_cm\u001b[0m\u001b[1;33m(\u001b[0m\u001b[0mpath_or_file\u001b[0m\u001b[1;33m,\u001b[0m \u001b[0mmode\u001b[0m\u001b[1;33m=\u001b[0m\u001b[1;34m\"r\"\u001b[0m\u001b[1;33m,\u001b[0m \u001b[0mencoding\u001b[0m\u001b[1;33m=\u001b[0m\u001b[1;32mNone\u001b[0m\u001b[1;33m)\u001b[0m\u001b[1;33m:\u001b[0m\u001b[1;33m\u001b[0m\u001b[1;33m\u001b[0m\u001b[0m\n\u001b[0;32m    406\u001b[0m     \u001b[1;34mr\"\"\"Pass through file objects and context-manage `.PathLike`\\s.\"\"\"\u001b[0m\u001b[1;33m\u001b[0m\u001b[1;33m\u001b[0m\u001b[0m\n\u001b[1;32m--> 407\u001b[1;33m     \u001b[0mfh\u001b[0m\u001b[1;33m,\u001b[0m \u001b[0mopened\u001b[0m \u001b[1;33m=\u001b[0m \u001b[0mto_filehandle\u001b[0m\u001b[1;33m(\u001b[0m\u001b[0mpath_or_file\u001b[0m\u001b[1;33m,\u001b[0m \u001b[0mmode\u001b[0m\u001b[1;33m,\u001b[0m \u001b[1;32mTrue\u001b[0m\u001b[1;33m,\u001b[0m \u001b[0mencoding\u001b[0m\u001b[1;33m)\u001b[0m\u001b[1;33m\u001b[0m\u001b[1;33m\u001b[0m\u001b[0m\n\u001b[0m\u001b[0;32m    408\u001b[0m     \u001b[1;32mif\u001b[0m \u001b[0mopened\u001b[0m\u001b[1;33m:\u001b[0m\u001b[1;33m\u001b[0m\u001b[1;33m\u001b[0m\u001b[0m\n\u001b[0;32m    409\u001b[0m         \u001b[1;32mwith\u001b[0m \u001b[0mfh\u001b[0m\u001b[1;33m:\u001b[0m\u001b[1;33m\u001b[0m\u001b[1;33m\u001b[0m\u001b[0m\n",
      "\u001b[1;32m~\\AppData\\Local\\Programs\\Python\\Python37\\lib\\site-packages\\matplotlib\\cbook\\__init__.py\u001b[0m in \u001b[0;36mto_filehandle\u001b[1;34m(fname, flag, return_opened, encoding)\u001b[0m\n\u001b[0;32m    390\u001b[0m             \u001b[0mfh\u001b[0m \u001b[1;33m=\u001b[0m \u001b[0mbz2\u001b[0m\u001b[1;33m.\u001b[0m\u001b[0mBZ2File\u001b[0m\u001b[1;33m(\u001b[0m\u001b[0mfname\u001b[0m\u001b[1;33m,\u001b[0m \u001b[0mflag\u001b[0m\u001b[1;33m)\u001b[0m\u001b[1;33m\u001b[0m\u001b[1;33m\u001b[0m\u001b[0m\n\u001b[0;32m    391\u001b[0m         \u001b[1;32melse\u001b[0m\u001b[1;33m:\u001b[0m\u001b[1;33m\u001b[0m\u001b[1;33m\u001b[0m\u001b[0m\n\u001b[1;32m--> 392\u001b[1;33m             \u001b[0mfh\u001b[0m \u001b[1;33m=\u001b[0m \u001b[0mopen\u001b[0m\u001b[1;33m(\u001b[0m\u001b[0mfname\u001b[0m\u001b[1;33m,\u001b[0m \u001b[0mflag\u001b[0m\u001b[1;33m,\u001b[0m \u001b[0mencoding\u001b[0m\u001b[1;33m=\u001b[0m\u001b[0mencoding\u001b[0m\u001b[1;33m)\u001b[0m\u001b[1;33m\u001b[0m\u001b[1;33m\u001b[0m\u001b[0m\n\u001b[0m\u001b[0;32m    393\u001b[0m         \u001b[0mopened\u001b[0m \u001b[1;33m=\u001b[0m \u001b[1;32mTrue\u001b[0m\u001b[1;33m\u001b[0m\u001b[1;33m\u001b[0m\u001b[0m\n\u001b[0;32m    394\u001b[0m     \u001b[1;32melif\u001b[0m \u001b[0mhasattr\u001b[0m\u001b[1;33m(\u001b[0m\u001b[0mfname\u001b[0m\u001b[1;33m,\u001b[0m \u001b[1;34m'seek'\u001b[0m\u001b[1;33m)\u001b[0m\u001b[1;33m:\u001b[0m\u001b[1;33m\u001b[0m\u001b[1;33m\u001b[0m\u001b[0m\n",
      "\u001b[1;31mPermissionError\u001b[0m: [Errno 13] Permission denied: 'DCGAN_results/hist/1_1Deep_BN.png'"
     ]
    },
    {
     "data": {
      "image/png": "[encoded data removed]",
      "text/plain": [
       "<Figure size 432x288 with 1 Axes>"
      ]
     },
     "metadata": {
      "needs_background": "light"
     },
     "output_type": "display_data"
    }
   ],
   "source": [
    "ratio_array = [ (1,1), (1,2), (1,3), (2,3), (3,2), (3,1), (2,1), (10,1), (1,10)]\n",
    "model_array = ['Deep_BN' ] #'Drop' 'Shallow_BN' 'Shallow_Drop' 'Deeper_G_BN' 'Deeper_D_BN']\n",
    "\n",
    "for pick_model in model_array:\n",
    "    #---------------------------COMPILE SELECTED MODELS--------------------------------------#\n",
    "    # build discriminator\n",
    "    discriminator = build_discriminator(pick_model=pick_model)\n",
    "    discriminator.compile(loss='binary_crossentropy',\n",
    "                          optimizer=optimizer,\n",
    "                          metrics=['accuracy'])\n",
    "\n",
    "    # build generator\n",
    "    generator = build_generator(pick_model=pick_model)\n",
    "    z = Input(shape=(100,))\n",
    "    img = generator(z)\n",
    "\n",
    "    # For the combined model we will only train the generator\n",
    "    discriminator.trainable = False\n",
    "\n",
    "    # The discriminator takes generated images as input and determines validity\n",
    "    valid = discriminator(img)\n",
    "\n",
    "    # The combined model  (stacked generator and discriminator)\n",
    "    # Trains the generator to fool the discriminator\n",
    "    combined = Model(z, valid)\n",
    "    combined.compile(loss='binary_crossentropy', optimizer=optimizer)\n",
    "    epochs = 20000\n",
    "    #----------------------------------------LOOP OVER RATIOS--------------------------------#\n",
    "    for ratio in ratio_array:\n",
    "        \n",
    "        #----------------------------------------EXECUTION-----------------------------------#\n",
    "        start = time.time()\n",
    "\n",
    "        train(epochs=epochs, batch_size=32, save_interval=epochs/100, ratio=ratio, pick_model=pick_model) ## ratio G:D\n",
    "\n",
    "        end = time.time()\n",
    "        \n",
    "        #--------------------------------------GET--INFO-------------------------------------#\n",
    "        elapsed_train_time = 'elapsed training time: {} min, {} sec '.format(int((end - start) / 60),\n",
    "                                                                             int((end - start) % 60))\n",
    "        train_hist['total_ptime'].append(elapsed_train_time)\n",
    "\n",
    "        print(elapsed_train_time)\n",
    "        os.makedirs(root + 'hist/', exist_ok=True)  \n",
    "        show_train_hist(train_hist, save=True, path=root + 'hist/' + str(ratio[0]) + '_' + str(ratio[1]) + pick_model +'.png')\n",
    "        # save hist data to csv\n",
    "        os.makedirs(root + 'hist_csv/', exist_ok=True) \n",
    "        with open(root+ 'hist_csv/' + str(ratio[0]) + '_' + str(ratio[1]) + pick_model +'.csv', 'w') as f:\n",
    "            for key in train_hist.keys():\n",
    "                f.write(\"%s,%s\\n\"%(key,train_hist[key]))\n",
    "        \n",
    "        # save weights\n",
    "        \n",
    "        \n",
    "        # remove old data structure\n",
    "        del train_hist\n",
    "        # redefine\n",
    "        train_hist = {}\n",
    "        train_hist['D_losses'] = []\n",
    "        train_hist['G_losses'] = []\n",
    "        train_hist['per_epoch_ptimes'] = []\n",
    "        train_hist['total_ptime'] = []\n",
    "        train_hist['accuracy'] = []\n",
    "        train_hist['Model'] = []\n",
    "    \n",
    "    "
   ]
  },
  {
   "cell_type": "code",
   "execution_count": 14,
   "metadata": {},
   "outputs": [],
   "source": [
    "os.makedirs(root + 'hist/', exist_ok=True)        \n",
    "show_train_hist(train_hist, save=True, path=root + 'hist/' + str(ratio[0]) + '_' + str(ratio[1]) + pick_model +'.png')\n"
   ]
  },
  {
   "cell_type": "code",
   "execution_count": 16,
   "metadata": {},
   "outputs": [],
   "source": [
    "os.makedirs(root + 'hist_csv/', exist_ok=True) \n",
    "with open(root+ 'hist_csv/' + str(ratio[0]) + '_' + str(ratio[1]) + pick_model +'.csv', 'w') as f:\n",
    "            for key in train_hist.keys():\n",
    "                f.write(\"%s,%s\\n\"%(key,train_hist[key]))"
   ]
  },
  {
   "cell_type": "code",
   "execution_count": null,
   "metadata": {
    "_uuid": "cb7c9e65347eb077e1dabd74445713ddef12ba34"
   },
   "outputs": [],
   "source": [
    "os.makedirs('saved_model_weights', exist_ok=True)\n",
    "generator.save_weights('saved_model_weights/generator_weights.h5')\n",
    "discriminator.save_weights('saved_model_weights/discriminator_weights.h5')\n",
    "combined.save_weights('saved_model_weights/combined_weights.h5')"
   ]
  },
  {
   "cell_type": "markdown",
   "metadata": {
    "_uuid": "526455382f869ceadc4206cb703e676a4037b213",
    "collapsed": true
   },
   "source": [
    "## Show generated MNIST images"
   ]
  },
  {
   "cell_type": "code",
   "execution_count": null,
   "metadata": {
    "_uuid": "b9cd883f622680511e19cfa30717a3a8d93c4a48"
   },
   "outputs": [],
   "source": [
    "Image.open('images/mnist_1000.png')"
   ]
  },
  {
   "cell_type": "code",
   "execution_count": null,
   "metadata": {
    "_uuid": "4c487c7fede8db3baa681554c9cf677464af791c"
   },
   "outputs": [],
   "source": [
    "Image.open('images/mnist_9000.png')"
   ]
  },
  {
   "cell_type": "markdown",
   "metadata": {
    "_uuid": "e1a1fdfff62338dd332aa823655f398156a5e5ae"
   },
   "source": [
    "## Reference\n",
    "[Keras - DCGAN](https://github.com/eriklindernoren/Keras-GAN#dcgan)"
   ]
  }
 ],
 "metadata": {
  "kernelspec": {
   "display_name": "gpu",
   "language": "python",
   "name": "gpu"
  },
  "language_info": {
   "codemirror_mode": {
    "name": "ipython",
    "version": 3
   },
   "file_extension": ".py",
   "mimetype": "text/x-python",
   "name": "python",
   "nbconvert_exporter": "python",
   "pygments_lexer": "ipython3",
   "version": "3.7.2"
  }
 },
 "nbformat": 4,
 "nbformat_minor": 1
}
