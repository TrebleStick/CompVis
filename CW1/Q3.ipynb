{
 "cells": [
  {
   "cell_type": "code",
   "execution_count": 1,
   "metadata": {},
   "outputs": [
    {
     "name": "stderr",
     "output_type": "stream",
     "text": [
      "D:\\Program Files\\Anaconda\\lib\\site-packages\\sklearn\\ensemble\\weight_boosting.py:29: DeprecationWarning: numpy.core.umath_tests is an internal NumPy module and should not be imported. It will be removed in a future NumPy release.\n",
      "  from numpy.core.umath_tests import inner1d\n"
     ]
    }
   ],
   "source": [
    "from sklearn.ensemble import RandomForestClassifier\n",
    "from sklearn.ensemble import RandomTreesEmbedding\n",
    "from sklearn.preprocessing import OneHotEncoder\n",
    "import numpy as np\n",
    "import pandas as pd\n",
    "import csv\n",
    "import scipy.io\n",
    "import matplotlib.pyplot as plt"
   ]
  },
  {
   "cell_type": "code",
   "execution_count": 2,
   "metadata": {},
   "outputs": [],
   "source": [
    "# Load SIFT data\n",
    "mat_te = scipy.io.loadmat('csvs/desc_te.mat')\n",
    "mat_tr = scipy.io.loadmat('csvs/desc_tr.mat')\n",
    "\n",
    "# Access arrays\n",
    "desc_tr_raw = mat_tr['desc_tr']\n",
    "desc_te_raw = mat_te['desc_te']\n",
    "\n",
    "del mat_te\n",
    "del mat_tr\n",
    "\n",
    "# Reshape to column\n",
    "desc_tr = desc_tr_raw.reshape(150)\n",
    "desc_te = desc_te_raw.reshape(150)\n",
    "\n",
    "del desc_tr_raw\n",
    "del desc_te_raw"
   ]
  },
  {
   "cell_type": "code",
   "execution_count": 3,
   "metadata": {},
   "outputs": [],
   "source": [
    "# Reshape data\n",
    "data_train_patches  = desc_tr[0].T\n",
    "class_train_patches = np.asarray([1] * desc_tr[0].T.shape[0]) \n",
    "data_test_patches  = desc_te[0].T\n",
    "class_test_patches = np.asarray([1] * desc_te[0].T.shape[0]) \n",
    "\n",
    "# Create column of SIFT patches\n",
    "for x in range(1,150):\n",
    "    data_train_patches   = np.concatenate([data_train_patches, desc_tr[x].T])\n",
    "    class_train_patches  = np.concatenate([class_train_patches, np.asarray([x%10 +1] * desc_tr[x].T.shape[0])])\n",
    "    data_test_patches   = np.concatenate([data_test_patches, desc_te[x].T])\n",
    "    class_test_patches  = np.concatenate([class_test_patches, np.asarray([x%10 +1] * desc_te[x].T.shape[0])])"
   ]
  },
  {
   "cell_type": "code",
   "execution_count": 4,
   "metadata": {},
   "outputs": [],
   "source": [
    "# Shuffle sift patches\n",
    "data_train_shuf = data_train_patches\n",
    "data_test_shuf = data_test_patches\n",
    "class_train_shuf = class_train_patches\n",
    "class_test_shuf = class_test_patches\n",
    "\n",
    "del data_train_patches\n",
    "del data_test_patches\n",
    "del class_train_patches\n",
    "del class_test_patches"
   ]
  },
  {
   "cell_type": "code",
   "execution_count": 6,
   "metadata": {},
   "outputs": [
    {
     "name": "stdout",
     "output_type": "stream",
     "text": [
      "0.089231327304805\n"
     ]
    }
   ],
   "source": [
    "# Build Model\n",
    "clf = RandomForestClassifier(n_estimators=10, \n",
    "                             max_depth=5, \n",
    "                             max_features='auto',\n",
    "                             bootstrap=True,\n",
    "                             criterion=\"entropy\",\n",
    "                             random_state=21,\n",
    "                             n_jobs=-1)\n",
    "\n",
    "# Fit Model\n",
    "clf.fit(data_train_shuf, class_train_shuf)\n",
    "\n",
    "# Accuracy\n",
    "predictScore = clf.score(data_test_shuf, class_test_shuf)\n",
    "print(predictScore)\n",
    "\n",
    "# Create transformer\n",
    "rf_enc = OneHotEncoder()\n",
    "rf_enc.fit(clf.apply(data_train_shuf))\n",
    "\n",
    "# Transform data\n",
    "data_train_transf = list([])\n",
    "data_test_transf = list([])\n",
    "\n",
    "for i in range(150):\n",
    "    data_train_transf.append(rf_enc.transform(clf.apply(desc_tr[i].T)).toarray())\n",
    "    data_test_transf.append(rf_enc.transform(clf.apply(desc_te[i].T)).toarray())\n",
    "    \n",
    "# Condense to histograms\n",
    "data_train = []\n",
    "data_test = []\n",
    "\n",
    "for i in range(150):\n",
    "    data_train_temp = data_train_transf[i][0]\n",
    "    data_test_temp = data_test_transf[i][0]\n",
    "\n",
    "    for j in range(1, data_train_transf[i].shape[0]):\n",
    "        data_train_temp += data_train_transf[i][j]\n",
    "    data_train.append(data_train_temp)\n",
    "    for j in range(1, data_test_transf[i].shape[0]):\n",
    "        data_test_temp += data_test_transf[i][j]\n",
    "    data_test.append(data_test_temp)\n"
   ]
  },
  {
   "cell_type": "code",
   "execution_count": 7,
   "metadata": {},
   "outputs": [
    {
     "data": {
      "text/plain": [
       "<BarContainer object of 320 artists>"
      ]
     },
     "execution_count": 7,
     "metadata": {},
     "output_type": "execute_result"
    },
    {
     "data": {
      "image/png": "[encoded data removed]",
      "text/plain": [
       "<Figure size 432x288 with 1 Axes>"
      ]
     },
     "metadata": {
      "needs_background": "light"
     },
     "output_type": "display_data"
    }
   ],
   "source": [
    "plt.bar(range(320),data_test[110])"
   ]
  },
  {
   "cell_type": "code",
   "execution_count": 8,
   "metadata": {},
   "outputs": [
    {
     "data": {
      "text/plain": [
       "<BarContainer object of 320 artists>"
      ]
     },
     "execution_count": 8,
     "metadata": {},
     "output_type": "execute_result"
    },
    {
     "data": {
      "image/png": "[encoded data removed]",
      "text/plain": [
       "<Figure size 432x288 with 1 Axes>"
      ]
     },
     "metadata": {
      "needs_background": "light"
     },
     "output_type": "display_data"
    }
   ],
   "source": [
    "plt.bar(range(320),data_train[110])"
   ]
  },
  {
   "cell_type": "code",
   "execution_count": 9,
   "metadata": {},
   "outputs": [],
   "source": [
    "# Append class to the raw data\n",
    "class_train = np.array([])\n",
    "class_test  = np.array([])\n",
    "for j in range(10):\n",
    "    for i in range(15):\n",
    "        class_test  = np.append(class_test,  j+1)\n",
    "        class_train = np.append(class_train, j+1)\n",
    "\n",
    "idx = np.arange(150)\n",
    "\n",
    "# Shuffle train data\n",
    "np.random.seed(21)\n",
    "np.random.shuffle(idx)\n",
    "data_train_shuf = np.asarray(data_train)[idx]\n",
    "class_train_shuf = np.asarray(class_train)[idx]\n",
    "\n",
    "# Shuffle test data\n",
    "np.random.seed(42)\n",
    "np.random.shuffle(idx)\n",
    "data_test_shuf = np.asarray(data_test)[idx]\n",
    "class_test_shuf = np.asarray(class_test)[idx]\n",
    "\n",
    "del data_test\n",
    "del class_test\n",
    "\n",
    "for numTrees in [1024] :\n",
    "    for maxDepth in [32] :\n",
    "        with open('csvs/bigdata4.csv', 'a', newline='') as csvFile:\n",
    "            writer = csv.writer(csvFile)\n",
    "            numBins = np.shape(data_train)[1]\n",
    "            for maxFeatures in range(1, numBins, (numBins//16)) :\n",
    "\n",
    "\n",
    "                # Build Model\n",
    "                clf = RandomForestClassifier(n_estimators=numTrees, \n",
    "                             max_depth=maxDepth, \n",
    "                             max_features=maxFeatures,\n",
    "                             bootstrap=True,\n",
    "                             criterion=\"entropy\",\n",
    "                             random_state=21,\n",
    "                             n_jobs=-1)\n",
    "\n",
    "                # Fit Model\n",
    "                clf.fit(data_train_shuf, class_train_shuf)\n",
    "\n",
    "                # Accuracy\n",
    "                predictScore = clf.score(data_test_shuf, class_test_shuf)\n",
    "\n",
    "                # Classes Predicted\n",
    "                predictions = clf.predict(data_test_shuf)\n",
    "\n",
    "                # Probability Of Prediction - confidence\n",
    "                predict_probs = clf.predict_proba(data_test_shuf)\n",
    "\n",
    "                packet = [numBins, numTrees, maxDepth, maxFeatures, predictScore]\n",
    "\n",
    "\n",
    "                writer.writerow(packet)\n",
    "            csvFile.close()\n",
    "\n",
    "\n"
   ]
  },
  {
   "cell_type": "code",
   "execution_count": 10,
   "metadata": {},
   "outputs": [
    {
     "name": "stdout",
     "output_type": "stream",
     "text": [
      "[320, 1024, 32, 301, 0.56]\n"
     ]
    }
   ],
   "source": [
    "print(packet)"
   ]
  },
  {
   "cell_type": "code",
   "execution_count": null,
   "metadata": {},
   "outputs": [],
   "source": []
  }
 ],
 "metadata": {
  "kernelspec": {
   "display_name": "Python 3",
   "language": "python",
   "name": "python3"
  },
  "language_info": {
   "codemirror_mode": {
    "name": "ipython",
    "version": 3
   },
   "file_extension": ".py",
   "mimetype": "text/x-python",
   "name": "python",
   "nbconvert_exporter": "python",
   "pygments_lexer": "ipython3",
   "version": "3.7.0"
  }
 },
 "nbformat": 4,
 "nbformat_minor": 2
}
