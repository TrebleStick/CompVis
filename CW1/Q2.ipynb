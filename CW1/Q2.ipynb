{
 "cells": [
  {
   "cell_type": "code",
   "execution_count": 1,
   "metadata": {},
   "outputs": [],
   "source": [
    "from sklearn.ensemble import RandomForestClassifier\n",
    "import numpy as np\n",
    "import pandas as pd\n",
    "import csv"
   ]
  },
  {
   "cell_type": "code",
   "execution_count": 2,
   "metadata": {},
   "outputs": [],
   "source": [
    "for numBins in [128, 256, 512, 1024, 2048] :\n",
    "    for numTrees in [64,128,256,512,1024,2048,4096,8192,16384,32768,65536] :\n",
    "        for maxDepth in [2,4,8,16,32,64,None] :\n",
    "            with open('csvs/bigdata.csv', 'a', newline='') as csvFile:\n",
    "                writer = csv.writer(csvFile)\n",
    "                for maxFeatures in ['sqrt', 'log2', None] :\n",
    "                    # File Names\n",
    "                    data_test_filename = 'csvs/test_data_' + str(numBins) +'.csv'\n",
    "                    data_train_filename = 'csvs/train_data_' + str(numBins) +'.csv'\n",
    "\n",
    "                    # Get csv raw data\n",
    "                    data_test_raw = pd.read_csv(data_test_filename, header=None)\n",
    "                    data_train_raw = pd.read_csv(data_train_filename, header=None)\n",
    "                    data_test = data_test_raw.values\n",
    "                    data_train = data_train_raw.values\n",
    "\n",
    "                    # Append class to the raw data\n",
    "                    class_train = np.array([])\n",
    "                    class_test  = np.array([])\n",
    "                    for j in range(10):\n",
    "                        for i in range(15):\n",
    "                            class_test  = np.append(class_test,  j+1)\n",
    "                            class_train = np.append(class_train, j+1)\n",
    "\n",
    "                    idx = np.arange(150)\n",
    "\n",
    "                    # Shuffle train data\n",
    "                    np.random.seed(21)\n",
    "                    np.random.shuffle(idx)\n",
    "                    data_train_shuf = data_train[idx]\n",
    "                    class_train_shuf = class_train[idx]\n",
    "\n",
    "                    # Shuffle test data\n",
    "                    np.random.seed(42)\n",
    "                    np.random.shuffle(idx)\n",
    "                    data_test_shuf = data_test[idx]\n",
    "                    class_test_shuf = class_test[idx]\n",
    "\n",
    "                    # Build Model\n",
    "                    clf = RandomForestClassifier(n_estimators=numTrees, \n",
    "                                 max_depth=maxDepth, \n",
    "                                 max_features=maxFeatures,\n",
    "                                 bootstrap=True,\n",
    "                                 criterion=\"entropy\",\n",
    "                                 random_state=21,\n",
    "                                 n_jobs=-1)\n",
    "\n",
    "                    # Fit Model\n",
    "                    clf.fit(data_train_shuf, class_train_shuf)\n",
    "\n",
    "                    # Accuracy\n",
    "                    predictScore = clf.score(data_test_shuf, class_test_shuf)\n",
    "\n",
    "                    # Classes Predicted\n",
    "    #                 predictions = clf.predict(data_test_shuf)\n",
    "\n",
    "                    # Probability Of Prediction - confidence\n",
    "    #                 predict_probs = clf.predict_proba(data_test_shuf)\n",
    "\n",
    "                    packet = [numBins, numTrees, maxDepth, maxFeatures, predictScore]\n",
    "\n",
    "\n",
    "                    writer.writerow(packet)\n",
    "                csvFile.close()\n",
    "\n",
    "\n"
   ]
  },
  {
   "cell_type": "code",
   "execution_count": null,
   "metadata": {},
   "outputs": [],
   "source": [
    "print('YEEEY')"
   ]
  }
 ],
 "metadata": {
  "kernelspec": {
   "display_name": "Python 3",
   "language": "python",
   "name": "python3"
  },
  "language_info": {
   "codemirror_mode": {
    "name": "ipython",
    "version": 3
   },
   "file_extension": ".py",
   "mimetype": "text/x-python",
   "name": "python",
   "nbconvert_exporter": "python",
   "pygments_lexer": "ipython3",
   "version": "3.7.1"
  }
 },
 "nbformat": 4,
 "nbformat_minor": 2
}
