{
 "cells": [
  {
   "cell_type": "code",
   "execution_count": 806,
   "metadata": {},
   "outputs": [],
   "source": [
    "from sklearn.ensemble import RandomForestClassifier\n",
    "import numpy as np\n",
    "import pandas as pd"
   ]
  },
  {
   "cell_type": "code",
   "execution_count": 935,
   "metadata": {},
   "outputs": [],
   "source": [
    "data_test = pd.read_csv('csvs/test_data_2048.csv', header=None)\n",
    "data_train = pd.read_csv('csvs/train_data_2048.csv', header=None)"
   ]
  },
  {
   "cell_type": "markdown",
   "metadata": {},
   "source": [
    "DOES DATA TEST USE SAME ORDER OF CLASSES"
   ]
  },
  {
   "cell_type": "code",
   "execution_count": 936,
   "metadata": {},
   "outputs": [],
   "source": [
    "data_test = data_test.values\n",
    "data_train = data_train.values"
   ]
  },
  {
   "cell_type": "code",
   "execution_count": 937,
   "metadata": {},
   "outputs": [
    {
     "name": "stdout",
     "output_type": "stream",
     "text": [
      "[ 1.  1.  1.  1.  1.  1.  1.  1.  1.  1.  1.  1.  1.  1.  1.  2.  2.  2.\n",
      "  2.  2.  2.  2.  2.  2.  2.  2.  2.  2.  2.  2.  3.  3.  3.  3.  3.  3.\n",
      "  3.  3.  3.  3.  3.  3.  3.  3.  3.  4.  4.  4.  4.  4.  4.  4.  4.  4.\n",
      "  4.  4.  4.  4.  4.  4.  5.  5.  5.  5.  5.  5.  5.  5.  5.  5.  5.  5.\n",
      "  5.  5.  5.  6.  6.  6.  6.  6.  6.  6.  6.  6.  6.  6.  6.  6.  6.  6.\n",
      "  7.  7.  7.  7.  7.  7.  7.  7.  7.  7.  7.  7.  7.  7.  7.  8.  8.  8.\n",
      "  8.  8.  8.  8.  8.  8.  8.  8.  8.  8.  8.  8.  9.  9.  9.  9.  9.  9.\n",
      "  9.  9.  9.  9.  9.  9.  9.  9.  9. 10. 10. 10. 10. 10. 10. 10. 10. 10.\n",
      " 10. 10. 10. 10. 10. 10.]\n"
     ]
    }
   ],
   "source": [
    "class_train = np.array([])\n",
    "for j in range(10):\n",
    "    for i in range(15):\n",
    "        class_train = np.append(class_train, j+1)\n",
    "print(class_train)"
   ]
  },
  {
   "cell_type": "code",
   "execution_count": 938,
   "metadata": {},
   "outputs": [
    {
     "name": "stdout",
     "output_type": "stream",
     "text": [
      "[ 1.  1.  1.  1.  1.  1.  1.  1.  1.  1.  1.  1.  1.  1.  1.  2.  2.  2.\n",
      "  2.  2.  2.  2.  2.  2.  2.  2.  2.  2.  2.  2.  3.  3.  3.  3.  3.  3.\n",
      "  3.  3.  3.  3.  3.  3.  3.  3.  3.  4.  4.  4.  4.  4.  4.  4.  4.  4.\n",
      "  4.  4.  4.  4.  4.  4.  5.  5.  5.  5.  5.  5.  5.  5.  5.  5.  5.  5.\n",
      "  5.  5.  5.  6.  6.  6.  6.  6.  6.  6.  6.  6.  6.  6.  6.  6.  6.  6.\n",
      "  7.  7.  7.  7.  7.  7.  7.  7.  7.  7.  7.  7.  7.  7.  7.  8.  8.  8.\n",
      "  8.  8.  8.  8.  8.  8.  8.  8.  8.  8.  8.  8.  9.  9.  9.  9.  9.  9.\n",
      "  9.  9.  9.  9.  9.  9.  9.  9.  9. 10. 10. 10. 10. 10. 10. 10. 10. 10.\n",
      " 10. 10. 10. 10. 10. 10.]\n"
     ]
    }
   ],
   "source": [
    "class_test = np.array([])\n",
    "for j in range(10):\n",
    "    for i in range(15):\n",
    "        class_test = np.append(class_test, j+1)\n",
    "print(class_test)"
   ]
  },
  {
   "cell_type": "code",
   "execution_count": 939,
   "metadata": {},
   "outputs": [
    {
     "name": "stdout",
     "output_type": "stream",
     "text": [
      "(150, 2048)\n",
      "(150, 2048)\n",
      "(150,)\n",
      "(150,)\n"
     ]
    }
   ],
   "source": [
    "print(np.shape(data_train))\n",
    "print(np.shape(data_test))\n",
    "print(np.shape(class_test))\n",
    "print(np.shape(class_train))"
   ]
  },
  {
   "cell_type": "code",
   "execution_count": 940,
   "metadata": {},
   "outputs": [
    {
     "name": "stdout",
     "output_type": "stream",
     "text": [
      "[  0   1   2   3   4   5   6   7   8   9  10  11  12  13  14  15  16  17\n",
      "  18  19  20  21  22  23  24  25  26  27  28  29  30  31  32  33  34  35\n",
      "  36  37  38  39  40  41  42  43  44  45  46  47  48  49  50  51  52  53\n",
      "  54  55  56  57  58  59  60  61  62  63  64  65  66  67  68  69  70  71\n",
      "  72  73  74  75  76  77  78  79  80  81  82  83  84  85  86  87  88  89\n",
      "  90  91  92  93  94  95  96  97  98  99 100 101 102 103 104 105 106 107\n",
      " 108 109 110 111 112 113 114 115 116 117 118 119 120 121 122 123 124 125\n",
      " 126 127 128 129 130 131 132 133 134 135 136 137 138 139 140 141 142 143\n",
      " 144 145 146 147 148 149]\n",
      "[ 92  44   7  21  95  75  20 121  26  19  81  88 143 117  23  77 138  73\n",
      "  14 142 123  62  83  74  42  60  40  45  87 124  41 131  70  46 126  54\n",
      "  85 114  38 101 149 136 113  97 141  36  37  13  68  11  52  49  65 118\n",
      "  55  67   3  17 135  29  10  22   2  31  96  89  27 108  51   1  16 106\n",
      "  86  34 104  93 134  43 111  39  47  78 116  64  94  24 132  58   8 127\n",
      "  71  66 130  79 105  63 144 115  32  25 103 102  30  76 148  99  57 107\n",
      "  69 129   0 109 128   9  28  90 137   6  15  82 125  12  33  91 145 146\n",
      "  35 140  80   5  53 139  50  18 133 119  59  84 100 147 122  61 110  72\n",
      "  98 120 112  48   4  56]\n"
     ]
    }
   ],
   "source": [
    "idx = np.arange(150)\n",
    "print(idx)\n",
    "np.random.seed(21)\n",
    "np.random.shuffle(idx)\n",
    "print(idx)"
   ]
  },
  {
   "cell_type": "code",
   "execution_count": 941,
   "metadata": {},
   "outputs": [
    {
     "name": "stdout",
     "output_type": "stream",
     "text": [
      "[[ 7  0  6 ...  0  6  2]\n",
      " [15  0  0 ...  0  0  0]\n",
      " [ 0  0  1 ...  0 10  3]\n",
      " ...\n",
      " [ 0  0  0 ...  0  1  0]\n",
      " [13  1  0 ...  0  0  0]\n",
      " [ 2  0  0 ...  0  3  0]]\n",
      "[[ 0  0  0 ...  0  4  0]\n",
      " [ 1  0  0 ...  0  0  1]\n",
      " [ 1  0  0 ...  0 11  4]\n",
      " ...\n",
      " [ 5  0  1 ...  0  0  1]\n",
      " [ 2  0  3 ...  0  0  1]\n",
      " [ 0  0  0 ...  0  1  0]]\n"
     ]
    }
   ],
   "source": [
    "print(data_train)\n",
    "data_train_shuf = data_train[idx]\n",
    "class_train_shuf = class_train[idx]\n",
    "np.random.seed(42)\n",
    "np.random.shuffle(idx)\n",
    "data_test_shuf = data_test[idx]\n",
    "class_test_shuf = class_test[idx]\n",
    "print(data_train_shuf)"
   ]
  },
  {
   "cell_type": "code",
   "execution_count": 948,
   "metadata": {},
   "outputs": [],
   "source": [
    "numTrees = 10000\n",
    "maxDepth = None\n",
    "objFunction = \"entropy\"\n",
    "maxFeatures = 'auto'"
   ]
  },
  {
   "cell_type": "code",
   "execution_count": 957,
   "metadata": {},
   "outputs": [],
   "source": [
    "clf = RandomForestClassifier(n_estimators=numTrees, \n",
    "                             max_depth=maxDepth, \n",
    "                             max_features=maxFeatures,\n",
    "                             bootstrap=True,\n",
    "                             criterion=objFunction,\n",
    "                             min_samples_leaf=1,\n",
    "                             random_state=21,\n",
    "                             n_jobs=-1)"
   ]
  },
  {
   "cell_type": "code",
   "execution_count": 958,
   "metadata": {},
   "outputs": [
    {
     "data": {
      "text/plain": [
       "RandomForestClassifier(bootstrap=True, class_weight=None, criterion='entropy',\n",
       "            max_depth=None, max_features='auto', max_leaf_nodes=None,\n",
       "            min_impurity_decrease=0.0, min_impurity_split=None,\n",
       "            min_samples_leaf=1, min_samples_split=2,\n",
       "            min_weight_fraction_leaf=0.0, n_estimators=10000, n_jobs=-1,\n",
       "            oob_score=False, random_state=21, verbose=0, warm_start=False)"
      ]
     },
     "execution_count": 958,
     "metadata": {},
     "output_type": "execute_result"
    }
   ],
   "source": [
    "clf.fit(data_train_shuf, class_train_shuf)"
   ]
  },
  {
   "cell_type": "code",
   "execution_count": 959,
   "metadata": {},
   "outputs": [],
   "source": [
    "predictTest = clf.score(data_test_shuf, class_test_shuf)"
   ]
  },
  {
   "cell_type": "code",
   "execution_count": 960,
   "metadata": {},
   "outputs": [
    {
     "name": "stdout",
     "output_type": "stream",
     "text": [
      "0.8133333333333334\n"
     ]
    }
   ],
   "source": [
    "print(predictTest)"
   ]
  },
  {
   "cell_type": "code",
   "execution_count": 947,
   "metadata": {},
   "outputs": [
    {
     "name": "stdout",
     "output_type": "stream",
     "text": [
      "[ 9.  1.  2.  8.  9.  1.  7.  5.  4.  9.  1. 10.  6.  2. 10.  1. 10.  1.\n",
      "  5.  4.  9. 10.  1.  6. 10.  9.  5.  3.  3.  5.  5.  6.  6.  6.  8.  8.\n",
      "  7.  4.  7.  9.  8.  2.  9. 10.  6.  6.  2.  6.  7.  9.  9.  7.  2.  5.\n",
      "  5.  8.  6. 10. 10.  1.  6.  3.  5.  7.  8.  5.  5.  1.  1.  8.  1.  6.\n",
      "  7.  5.  9.  7.  1.  8.  6.  6.  8.  1.  7.  4.  3.  9.  2.  9.  7.  2.\n",
      "  3.  5.  5.  9.  8.  9.  2.  8.  6. 10.  2.  5.  3.  6.  7.  2.  9.  2.\n",
      "  1.  9.  4.  3.  4.  7.  3. 10.  2.  5.  3.  2.  5. 10. 10.  5.  5.  1.\n",
      "  8. 10.  5.  2.  2.  7.  8.  9.  3.  5.  5.  5.  2. 10.  7.  7.  1.  6.\n",
      "  9.  8.  4.  2.  9.  3.]\n"
     ]
    }
   ],
   "source": [
    "predictions = clf.predict(data_test_shuf)\n",
    "print(predictions)"
   ]
  },
  {
   "cell_type": "code",
   "execution_count": 893,
   "metadata": {},
   "outputs": [
    {
     "name": "stdout",
     "output_type": "stream",
     "text": [
      "[ 3.  1.  2.  8.  9.  9.  7.  5.  4.  8.  1. 10.  6.  2. 10.  1. 10.  1.\n",
      "  5.  4.  9. 10.  3.  6. 10.  9.  5.  5.  3.  3.  6.  6.  6.  6.  8.  8.\n",
      "  4.  4.  7.  5.  8.  2.  9. 10.  6.  6.  2.  6.  7.  9. 10.  7.  2.  7.\n",
      "  3.  8.  6. 10. 10.  1.  7.  3.  5.  5.  8.  7.  5.  1.  1.  8.  1.  4.\n",
      "  7.  7.  1.  7.  1.  8.  6.  6.  8.  1.  4.  4.  3.  9.  2.  9.  7.  2.\n",
      "  3.  9.  5.  9.  8.  9.  2.  8.  6. 10.  2.  5.  3.  6.  4.  2.  9.  7.\n",
      "  1.  3.  4.  3.  4.  7.  3. 10.  2.  4.  3.  2.  5. 10. 10.  5.  5.  1.\n",
      "  8. 10.  5.  2.  7.  1.  8.  9.  3.  5.  4.  6.  2. 10.  4.  7.  1.  4.\n",
      "  9.  8.  4.  2.  9.  3.]\n"
     ]
    }
   ],
   "source": [
    "print(class_test_shuf)"
   ]
  },
  {
   "cell_type": "code",
   "execution_count": 894,
   "metadata": {},
   "outputs": [
    {
     "name": "stdout",
     "output_type": "stream",
     "text": [
      "[0.1501 0.019  0.1726 0.1191 0.0194 0.0881 0.1176 0.1119 0.1891 0.0131]\n"
     ]
    }
   ],
   "source": [
    "predictions = clf.predict_proba(data_test_shuf)\n",
    "print(predictions[0])"
   ]
  },
  {
   "cell_type": "code",
   "execution_count": null,
   "metadata": {},
   "outputs": [],
   "source": []
  }
 ],
 "metadata": {
  "kernelspec": {
   "display_name": "Python 3",
   "language": "python",
   "name": "python3"
  },
  "language_info": {
   "codemirror_mode": {
    "name": "ipython",
    "version": 3
   },
   "file_extension": ".py",
   "mimetype": "text/x-python",
   "name": "python",
   "nbconvert_exporter": "python",
   "pygments_lexer": "ipython3",
   "version": "3.7.1"
  }
 },
 "nbformat": 4,
 "nbformat_minor": 2
}
