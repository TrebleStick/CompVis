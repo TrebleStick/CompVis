{
 "cells": [
  {
   "cell_type": "code",
   "execution_count": 19,
   "metadata": {
    "scrolled": true
   },
   "outputs": [],
   "source": [
    "from sklearn.ensemble import RandomForestClassifier\n",
    "import numpy as np\n",
    "import pandas as pd\n",
    "import csv\n",
    "import scipy.io\n",
    "import matplotlib.pyplot as plt\n",
    "from pandas_ml import ConfusionMatrix\n"
   ]
  },
  {
   "cell_type": "code",
   "execution_count": 30,
   "metadata": {},
   "outputs": [],
   "source": [
    "for numBins in [1024]:\n",
    "    \n",
    "    # File Names\n",
    "    data_test_filename = 'csvs/test_data_' + str(numBins) +'.csv'\n",
    "    data_train_filename = 'csvs/train_data_' + str(numBins) +'.csv'\n",
    "\n",
    "    # Get csv raw data\n",
    "    data_test_raw = pd.read_csv(data_test_filename, header=None)\n",
    "    data_train_raw = pd.read_csv(data_train_filename, header=None)\n",
    "    data_test = data_test_raw.values\n",
    "    data_train = data_train_raw.values\n",
    "\n",
    "    # Append class to the raw data\n",
    "    class_train = np.array([])\n",
    "    class_test  = np.array([])\n",
    "    for j in range(10):\n",
    "        for i in range(15):\n",
    "            class_test  = np.append(class_test,  j+1)\n",
    "            class_train = np.append(class_train, j+1)\n",
    "\n",
    "    idx = np.arange(150)\n",
    "\n",
    "    # Shuffle train data\n",
    "    np.random.seed(21)\n",
    "    np.random.shuffle(idx)\n",
    "    data_train_shuf = data_train[idx]\n",
    "    class_train_shuf = class_train[idx]\n",
    "\n",
    "    # Shuffle test data\n",
    "    np.random.seed(42)\n",
    "    np.random.shuffle(idx)\n",
    "    data_test_shuf = data_test[idx]\n",
    "    class_test_shuf = class_test[idx]\n",
    "    \n",
    "    for numTrees in [1024]:\n",
    "        for maxDepth in [32]:\n",
    "            with open('csvs/bigdata10.csv', 'a', newline='') as csvFile:\n",
    "                writer = csv.writer(csvFile)\n",
    "                for maxFeatures in ['auto'] :\n",
    "\n",
    "                    # Build Model\n",
    "                    clf = RandomForestClassifier(n_estimators=numTrees, \n",
    "                                 max_depth=maxDepth, \n",
    "                                 max_features=maxFeatures,\n",
    "                                 bootstrap=True,\n",
    "                                 criterion=\"entropy\",\n",
    "                                 random_state=21,\n",
    "                                 n_jobs=-1)\n",
    "\n",
    "                    # Fit Model\n",
    "                    clf.fit(data_train_shuf, class_train_shuf)\n",
    "\n",
    "                    # Accuracy\n",
    "                    predictScore = clf.score(data_test_shuf, class_test_shuf)\n",
    "\n",
    "                    packet = [numBins, numTrees, maxDepth, maxFeatures, predictScore]\n",
    "\n",
    "                    writer.writerow(packet)\n",
    "                csvFile.close()"
   ]
  },
  {
   "cell_type": "code",
   "execution_count": 31,
   "metadata": {},
   "outputs": [
    {
     "name": "stdout",
     "output_type": "stream",
     "text": [
      "0.8333333333333334\n"
     ]
    }
   ],
   "source": [
    "print(predictScore)"
   ]
  },
  {
   "cell_type": "code",
   "execution_count": 32,
   "metadata": {},
   "outputs": [
    {
     "name": "stdout",
     "output_type": "stream",
     "text": [
      "Confusion matrix:\n",
      "Predicted  1.0  2.0  3.0  4.0  5.0  6.0  7.0  8.0  9.0  10.0  __all__\n",
      "Actual                                                               \n",
      "1.0         13    0    0    0    0    0    1    0    1     0       15\n",
      "2.0          0   15    0    0    0    0    0    0    0     0       15\n",
      "3.0          1    0   11    0    2    0    0    0    1     0       15\n",
      "4.0          0    0    0    9    3    1    2    0    0     0       15\n",
      "5.0          0    0    0    0   14    0    0    0    0     1       15\n",
      "6.0          0    0    0    0    1   13    1    0    0     0       15\n",
      "7.0          0    1    0    0    3    1   10    0    0     0       15\n",
      "8.0          0    0    0    0    0    0    0   14    1     0       15\n",
      "9.0          0    0    0    0    2    1    0    0   12     0       15\n",
      "10.0         0    0    1    0    0    0    0    0    0    14       15\n",
      "__all__     14   16   12    9   25   16   14   14   15    15      150\n"
     ]
    },
    {
     "data": {
      "image/png": "[encoded data removed]",
      "text/plain": [
       "<Figure size 648x576 with 2 Axes>"
      ]
     },
     "metadata": {
      "needs_background": "light"
     },
     "output_type": "display_data"
    }
   ],
   "source": [
    "y_pred = clf.predict(data_test_shuf)\n",
    "\n",
    "confusion_matrix = ConfusionMatrix(class_test_shuf, y_pred)\n",
    "print(\"Confusion matrix:\\n%s\" % confusion_matrix)\n",
    "\n",
    "confusion_matrix.plot(normalized=True)\n",
    "plt.show()"
   ]
  },
  {
   "cell_type": "code",
   "execution_count": 33,
   "metadata": {},
   "outputs": [
    {
     "name": "stdout",
     "output_type": "stream",
     "text": [
      "[ 3.  1.  2.  8.  9.  9.  7.  5.  4.  8.  1. 10.  6.  2. 10.  1. 10.  1.\n",
      "  5.  4.  9. 10.  3.  6. 10.  9.  5.  5.  3.  3.  6.  6.  6.  6.  8.  8.\n",
      "  4.  4.  7.  5.  8.  2.  9. 10.  6.  6.  2.  6.  7.  9. 10.  7.  2.  7.\n",
      "  3.  8.  6. 10. 10.  1.  7.  3.  5.  5.  8.  7.  5.  1.  1.  8.  1.  4.\n",
      "  7.  7.  1.  7.  1.  8.  6.  6.  8.  1.  4.  4.  3.  9.  2.  9.  7.  2.\n",
      "  3.  9.  5.  9.  8.  9.  2.  8.  6. 10.  2.  5.  3.  6.  4.  2.  9.  7.\n",
      "  1.  3.  4.  3.  4.  7.  3. 10.  2.  4.  3.  2.  5. 10. 10.  5.  5.  1.\n",
      "  8. 10.  5.  2.  7.  1.  8.  9.  3.  5.  4.  6.  2. 10.  4.  7.  1.  4.\n",
      "  9.  8.  4.  2.  9.  3.]\n",
      "[ 9.  1.  2.  8.  9.  6.  7. 10.  4.  9.  1. 10.  6.  2. 10.  1. 10.  1.\n",
      "  5.  4.  9. 10.  1.  6. 10.  9.  5.  5.  3.  5.  5.  6.  6.  6.  8.  8.\n",
      "  7.  4.  7.  5.  8.  2.  9. 10.  6.  6.  2.  6.  7.  9.  3.  7.  2.  5.\n",
      "  5.  8.  6. 10. 10.  1.  6.  3.  5.  5.  8.  5.  5.  1.  1.  8.  1.  4.\n",
      "  7.  7.  9.  7.  1.  8.  6.  6.  8.  1.  5.  4.  3.  9.  2.  9.  7.  2.\n",
      "  3.  5.  5.  9.  8.  9.  2.  8.  6. 10.  2.  5.  3.  6.  7.  2.  5.  5.\n",
      "  1.  3.  4.  3.  4.  7.  3. 10.  2.  5.  3.  2.  5. 10. 10.  5.  5.  1.\n",
      "  8. 10.  5.  2.  2.  7.  8.  9.  3.  5.  4.  7.  2. 10.  5.  7.  1.  6.\n",
      "  9.  8.  4.  2.  9.  3.]\n"
     ]
    }
   ],
   "source": [
    "print(class_test_shuf)\n",
    "print(y_pred)"
   ]
  },
  {
   "cell_type": "code",
   "execution_count": 35,
   "metadata": {},
   "outputs": [
    {
     "name": "stdout",
     "output_type": "stream",
     "text": [
      "[ 34  14  15 111 134 131  96  61  51 116   0 143  85  19 142   3 148   1\n",
      "  67  50 124 140  40  80 139 120  69  72  36  41  83  77  89  88 113 112\n",
      "  49  45  95  70 110  24 132 138  81  78  18  84  93 129 144  99  27  92\n",
      "  33 108  87 149 141  10  91  42  60  74 105 101  63   6  13 115   9  46\n",
      " 100 102   2  94   4 118  75  79 109  11  54  47  43 126  28 121  97  16\n",
      "  32 125  64 133 119 127  26 117  82 146  21  73  38  86  59  20 128 103\n",
      "   7  31  55  35  52  90  37 147  22  48  39  29  66 136 135  71  68   8\n",
      " 107 145  62  17  98   5 114 122  44  65  53  76  25 137  58 104  12  56\n",
      " 123 106  57  23 130  30]\n"
     ]
    }
   ],
   "source": [
    "print(idx)"
   ]
  },
  {
   "cell_type": "code",
   "execution_count": 46,
   "metadata": {},
   "outputs": [
    {
     "data": {
      "text/plain": [
       "(150, 10)"
      ]
     },
     "execution_count": 46,
     "metadata": {},
     "output_type": "execute_result"
    }
   ],
   "source": [
    "predictProb = clf.predict_proba(data_test_shuf)\n",
    "predictProb.shape"
   ]
  },
  {
   "cell_type": "code",
   "execution_count": 49,
   "metadata": {},
   "outputs": [
    {
     "data": {
      "text/plain": [
       "<BarContainer object of 10 artists>"
      ]
     },
     "execution_count": 49,
     "metadata": {},
     "output_type": "execute_result"
    },
    {
     "data": {
      "image/png": "[encoded data removed]",
      "text/plain": [
       "<Figure size 432x288 with 1 Axes>"
      ]
     },
     "metadata": {
      "needs_background": "light"
     },
     "output_type": "display_data"
    }
   ],
   "source": [
    "plt.bar(range(1,11),predictProb[0])"
   ]
  },
  {
   "cell_type": "code",
   "execution_count": 57,
   "metadata": {},
   "outputs": [
    {
     "data": {
      "text/plain": [
       "<BarContainer object of 10 artists>"
      ]
     },
     "execution_count": 57,
     "metadata": {},
     "output_type": "execute_result"
    },
    {
     "data": {
      "image/png": "[encoded data removed]",
      "text/plain": [
       "<Figure size 432x288 with 1 Axes>"
      ]
     },
     "metadata": {
      "needs_background": "light"
     },
     "output_type": "display_data"
    }
   ],
   "source": [
    "plt.bar(range(1,11),predictProb[1])"
   ]
  },
  {
   "cell_type": "code",
   "execution_count": 58,
   "metadata": {},
   "outputs": [
    {
     "data": {
      "text/plain": [
       "<BarContainer object of 10 artists>"
      ]
     },
     "execution_count": 58,
     "metadata": {},
     "output_type": "execute_result"
    },
    {
     "data": {
      "image/png": "[encoded data removed]",
      "text/plain": [
       "<Figure size 432x288 with 1 Axes>"
      ]
     },
     "metadata": {
      "needs_background": "light"
     },
     "output_type": "display_data"
    }
   ],
   "source": [
    "plt.bar(range(1,11),predictProb[2])"
   ]
  },
  {
   "cell_type": "code",
   "execution_count": 74,
   "metadata": {},
   "outputs": [
    {
     "data": {
      "text/plain": [
       "0.8330078125"
      ]
     },
     "execution_count": 74,
     "metadata": {},
     "output_type": "execute_result"
    }
   ],
   "source": [
    "(np.max(predictProb[2]))"
   ]
  },
  {
   "cell_type": "code",
   "execution_count": 75,
   "metadata": {},
   "outputs": [],
   "source": [
    "classifProb = []\n",
    "for i in range(150):\n",
    "    classifProb.append(np.max(predictProb[i]))"
   ]
  },
  {
   "cell_type": "code",
   "execution_count": 76,
   "metadata": {},
   "outputs": [
    {
     "name": "stdout",
     "output_type": "stream",
     "text": [
      "[0.2998046875, 0.271484375, 0.8330078125, 0.654296875, 0.537109375, 0.2109375, 0.4990234375, 0.3154296875, 0.1708984375, 0.212890625, 0.3125, 0.474609375, 0.3349609375, 0.623046875, 0.548828125, 0.248046875, 0.890625, 0.3330078125, 0.6015625, 0.1943359375, 0.685546875, 0.466796875, 0.21484375, 0.2978515625, 0.279296875, 0.828125, 0.275390625, 0.1962890625, 0.33203125, 0.2490234375, 0.2158203125, 0.287109375, 0.2607421875, 0.3134765625, 0.6611328125, 0.478515625, 0.216796875, 0.267578125, 0.3740234375, 0.1875, 0.716796875, 0.490234375, 0.7705078125, 0.19140625, 0.240234375, 0.2021484375, 0.7646484375, 0.388671875, 0.2314453125, 0.7734375, 0.1630859375, 0.2568359375, 0.5751953125, 0.21484375, 0.193359375, 0.361328125, 0.232421875, 0.8564453125, 0.7060546875, 0.30859375, 0.19921875, 0.2333984375, 0.265625, 0.228515625, 0.46484375, 0.2119140625, 0.2763671875, 0.2890625, 0.37109375, 0.79296875, 0.4404296875, 0.228515625, 0.224609375, 0.298828125, 0.3310546875, 0.2275390625, 0.30078125, 0.572265625, 0.1708984375, 0.3603515625, 0.5283203125, 0.291015625, 0.248046875, 0.259765625, 0.2802734375, 0.4091796875, 0.724609375, 0.3203125, 0.380859375, 0.7265625, 0.3896484375, 0.2314453125, 0.2373046875, 0.341796875, 0.552734375, 0.486328125, 0.42578125, 0.5498046875, 0.1943359375, 0.908203125, 0.7568359375, 0.3017578125, 0.212890625, 0.34765625, 0.2275390625, 0.7412109375, 0.1708984375, 0.197265625, 0.4453125, 0.1767578125, 0.2783203125, 0.3671875, 0.25390625, 0.3095703125, 0.41796875, 0.2041015625, 0.7548828125, 0.2177734375, 0.2734375, 0.5634765625, 0.48046875, 0.6142578125, 0.71484375, 0.2099609375, 0.28515625, 0.27734375, 0.32421875, 0.6044921875, 0.2373046875, 0.73828125, 0.345703125, 0.361328125, 0.638671875, 0.3388671875, 0.328125, 0.341796875, 0.203125, 0.216796875, 0.6435546875, 0.865234375, 0.2119140625, 0.4130859375, 0.341796875, 0.201171875, 0.67578125, 0.7978515625, 0.3056640625, 0.8427734375, 0.5576171875, 0.24609375]\n"
     ]
    }
   ],
   "source": [
    "print(classifProb)"
   ]
  },
  {
   "cell_type": "code",
   "execution_count": 92,
   "metadata": {},
   "outputs": [
    {
     "name": "stdout",
     "output_type": "stream",
     "text": [
      "[0. 0. 0. 0. 0. 0. 0. 0. 0. 0.]\n",
      "[0.2998046875, 0.271484375, 0.8330078125, 0.654296875, 0.537109375, 0.2109375, 0.4990234375, 0.3154296875, 0.1708984375, 0.212890625, 0.3125, 0.474609375, 0.3349609375, 0.623046875, 0.548828125, 0.248046875, 0.890625, 0.3330078125, 0.6015625, 0.1943359375, 0.685546875, 0.466796875, 0.21484375, 0.2978515625, 0.279296875, 0.828125, 0.275390625, 0.1962890625, 0.33203125, 0.2490234375, 0.2158203125, 0.287109375, 0.2607421875, 0.3134765625, 0.6611328125, 0.478515625, 0.216796875, 0.267578125, 0.3740234375, 0.1875, 0.716796875, 0.490234375, 0.7705078125, 0.19140625, 0.240234375, 0.2021484375, 0.7646484375, 0.388671875, 0.2314453125, 0.7734375, 0.1630859375, 0.2568359375, 0.5751953125, 0.21484375, 0.193359375, 0.361328125, 0.232421875, 0.8564453125, 0.7060546875, 0.30859375, 0.19921875, 0.2333984375, 0.265625, 0.228515625, 0.46484375, 0.2119140625, 0.2763671875, 0.2890625, 0.37109375, 0.79296875, 0.4404296875, 0.228515625, 0.224609375, 0.298828125, 0.3310546875, 0.2275390625, 0.30078125, 0.572265625, 0.1708984375, 0.3603515625, 0.5283203125, 0.291015625, 0.248046875, 0.259765625, 0.2802734375, 0.4091796875, 0.724609375, 0.3203125, 0.380859375, 0.7265625, 0.3896484375, 0.2314453125, 0.2373046875, 0.341796875, 0.552734375, 0.486328125, 0.42578125, 0.5498046875, 0.1943359375, 0.908203125, 0.7568359375, 0.3017578125, 0.212890625, 0.34765625, 0.2275390625, 0.7412109375, 0.1708984375, 0.197265625, 0.4453125, 0.1767578125, 0.2783203125, 0.3671875, 0.25390625, 0.3095703125, 0.41796875, 0.2041015625, 0.7548828125, 0.2177734375, 0.2734375, 0.5634765625, 0.48046875, 0.6142578125, 0.71484375, 0.2099609375, 0.28515625, 0.27734375, 0.32421875, 0.6044921875, 0.2373046875, 0.73828125, 0.345703125, 0.361328125, 0.638671875, 0.3388671875, 0.328125, 0.341796875, 0.203125, 0.216796875, 0.6435546875, 0.865234375, 0.2119140625, 0.4130859375, 0.341796875, 0.201171875, 0.67578125, 0.7978515625, 0.3056640625, 0.8427734375, 0.5576171875, 0.24609375]\n",
      "[ 4.23 10.2   3.26  2.16  4.12  3.63  3.22  8.09  6.72  8.33]\n",
      "[13. 15. 11.  9. 14. 13. 10. 14. 12. 14.]\n",
      "[0.33 0.68 0.3  0.24 0.29 0.28 0.32 0.58 0.56 0.59]\n",
      "[0.21 0.35 0.16  nan 0.21 0.2  0.26  nan 0.28 0.32]\n"
     ]
    },
    {
     "name": "stderr",
     "output_type": "stream",
     "text": [
      "D:\\Program Files\\Anaconda\\lib\\site-packages\\ipykernel_launcher.py:19: RuntimeWarning: invalid value encountered in true_divide\n"
     ]
    }
   ],
   "source": [
    "avProb = np.zeros(10)\n",
    "failProb = np.zeros(10)\n",
    "numProb = np.zeros(10)\n",
    "failnumProb = np.zeros(10)\n",
    "print(avProb)\n",
    "print(classifProb)\n",
    "for i in range(150):\n",
    "    if class_test_shuf[i] == y_pred[i]:\n",
    "        j = int(class_test_shuf[i])\n",
    "        numProb[j-1] += 1\n",
    "        avProb[j-1] += classifProb[i]\n",
    "    else:\n",
    "        j = int(y_pred[i])\n",
    "        failnumProb[j-1] += 1\n",
    "        failProb[j-1] += classifProb[i]\n",
    "print(avProb)\n",
    "print(numProb)\n",
    "print(avProb/numProb)\n",
    "print(failProb/failnumProb)"
   ]
  },
  {
   "cell_type": "code",
   "execution_count": 96,
   "metadata": {},
   "outputs": [
    {
     "data": {
      "text/plain": [
       "<BarContainer object of 10 artists>"
      ]
     },
     "execution_count": 96,
     "metadata": {},
     "output_type": "execute_result"
    },
    {
     "data": {
      "image/png": "[encoded data removed]",
      "text/plain": [
       "<Figure size 432x288 with 1 Axes>"
      ]
     },
     "metadata": {
      "needs_background": "light"
     },
     "output_type": "display_data"
    }
   ],
   "source": [
    "plt.bar(range(1,11),avProb/numProb)"
   ]
  },
  {
   "cell_type": "code",
   "execution_count": 97,
   "metadata": {},
   "outputs": [
    {
     "name": "stderr",
     "output_type": "stream",
     "text": [
      "D:\\Program Files\\Anaconda\\lib\\site-packages\\ipykernel_launcher.py:1: RuntimeWarning: invalid value encountered in true_divide\n",
      "  \"\"\"Entry point for launching an IPython kernel.\n"
     ]
    },
    {
     "data": {
      "text/plain": [
       "<BarContainer object of 10 artists>"
      ]
     },
     "execution_count": 97,
     "metadata": {},
     "output_type": "execute_result"
    },
    {
     "data": {
      "image/png": "[encoded data removed]",
      "text/plain": [
       "<Figure size 432x288 with 1 Axes>"
      ]
     },
     "metadata": {
      "needs_background": "light"
     },
     "output_type": "display_data"
    }
   ],
   "source": [
    "plt.bar(range(1,11),failProb/failnumProb)"
   ]
  },
  {
   "cell_type": "code",
   "execution_count": null,
   "metadata": {},
   "outputs": [],
   "source": []
  }
 ],
 "metadata": {
  "kernelspec": {
   "display_name": "Python 3",
   "language": "python",
   "name": "python3"
  },
  "language_info": {
   "codemirror_mode": {
    "name": "ipython",
    "version": 3
   },
   "file_extension": ".py",
   "mimetype": "text/x-python",
   "name": "python",
   "nbconvert_exporter": "python",
   "pygments_lexer": "ipython3",
   "version": "3.7.0"
  }
 },
 "nbformat": 4,
 "nbformat_minor": 2
}
