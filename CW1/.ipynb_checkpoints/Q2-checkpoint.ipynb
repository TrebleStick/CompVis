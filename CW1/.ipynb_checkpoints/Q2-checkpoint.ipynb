{
 "cells": [
  {
   "cell_type": "code",
   "execution_count": 1,
   "metadata": {},
   "outputs": [],
   "source": [
    "from sklearn.ensemble import RandomForestClassifier\n",
    "import numpy as np\n",
    "import pandas as pd"
   ]
  },
  {
   "cell_type": "code",
   "execution_count": null,
   "metadata": {},
   "outputs": [],
   "source": [
    "for numBins in [128, 256, 512, 1024, 2048] :\n",
    "    for numTrees in [64,128,256,512,1024,2048,4096,8192,16384,32768,65536,131072,262144,524288] :\n",
    "        for maxDepth in [2,4,8,16,32,64,None] :\n",
    "            for maxFeatures in ['sqrt', 'log2', None] :\n",
    "                # File Names\n",
    "                data_test_filename = 'csvs/test_data_' + str(numBins) +'.csv'\n",
    "                data_train_filename = 'csvs/train_data_' + str(numBins) +'.csv'\n",
    "                \n",
    "                # Get csv raw data\n",
    "                data_test_raw = pd.read_csv(data_test_filename, header=None)\n",
    "                data_train_raw = pd.read_csv(data_train_filename, header=None)\n",
    "                data_test = data_test_raw.values\n",
    "                data_train = data_train_raw.values\n",
    "                \n",
    "                # Append class to the raw data\n",
    "                class_train = np.array([])\n",
    "                class_test  = np.array([])\n",
    "                for j in range(10):\n",
    "                    for i in range(15):\n",
    "                        class_test  = np.append(class_test,  j+1)\n",
    "                        class_train = np.append(class_train, j+1)\n",
    "                        \n",
    "                idx = np.arange(150)\n",
    "                        \n",
    "                # Shuffle train data\n",
    "                np.random.seed(21)\n",
    "                np.random.shuffle(idx)\n",
    "                data_train_shuf = data_train[idx]\n",
    "                class_train_shuf = class_train[idx]\n",
    "\n",
    "                # Shuffle test data\n",
    "                np.random.seed(42)\n",
    "                np.random.shuffle(idx)\n",
    "                data_test_shuf = data_test[idx]\n",
    "                class_test_shuf = class_test[idx]\n",
    "                \n",
    "                # Build Model\n",
    "                clf = RandomForestClassifier(n_estimators=numTrees, \n",
    "                             max_depth=maxDepth, \n",
    "                             max_features=maxFeatures,\n",
    "                             bootstrap=True,\n",
    "                             criterion=\"entropy\",\n",
    "                             random_state=21,\n",
    "                             n_jobs=-1)\n",
    "                \n",
    "                # Fit Model\n",
    "                clf.fit(data_train_shuf, class_train_shuf)\n",
    "\n",
    "                # Accuracy\n",
    "                predictScore = clf.score(data_test_shuf, class_test_shuf)\n",
    "\n",
    "                # Classes Predicted\n",
    "#                 predictions = clf.predict(data_test_shuf)\n",
    "\n",
    "                # Probability Of Prediction - confidence\n",
    "#                 predict_probs = clf.predict_proba(data_test_shuf)\n",
    "                \n",
    "                packet = [numBins, numTrees, maxDepth, maxFeatures, predictScore]\n",
    "                \n",
    "                        \n",
    "                    "
   ]
  },
  {
   "cell_type": "code",
   "execution_count": 2,
   "metadata": {},
   "outputs": [],
   "source": [
    "data_test = pd.read_csv('csvs/test_data_2048.csv', header=None)\n",
    "data_train = pd.read_csv('csvs/train_data_2048.csv', header=None)\n",
    "numTrees = 10000\n",
    "maxDepth = None\n",
    "maxFeatures = 'auto'"
   ]
  },
  {
   "cell_type": "code",
   "execution_count": 10,
   "metadata": {},
   "outputs": [
    {
     "ename": "AttributeError",
     "evalue": "'numpy.ndarray' object has no attribute 'values'",
     "output_type": "error",
     "traceback": [
      "\u001b[1;31m---------------------------------------------------------------------------\u001b[0m",
      "\u001b[1;31mAttributeError\u001b[0m                            Traceback (most recent call last)",
      "\u001b[1;32m<ipython-input-10-1784b828d500>\u001b[0m in \u001b[0;36m<module>\u001b[1;34m\u001b[0m\n\u001b[1;32m----> 1\u001b[1;33m \u001b[0mdata_test\u001b[0m \u001b[1;33m=\u001b[0m \u001b[0mdata_test\u001b[0m\u001b[1;33m.\u001b[0m\u001b[0mvalues\u001b[0m\u001b[1;33m\u001b[0m\u001b[1;33m\u001b[0m\u001b[0m\n\u001b[0m\u001b[0;32m      2\u001b[0m \u001b[0mdata_train\u001b[0m \u001b[1;33m=\u001b[0m \u001b[0mdata_train\u001b[0m\u001b[1;33m.\u001b[0m\u001b[0mvalues\u001b[0m\u001b[1;33m\u001b[0m\u001b[1;33m\u001b[0m\u001b[0m\n\u001b[0;32m      3\u001b[0m \u001b[1;33m\u001b[0m\u001b[0m\n\u001b[0;32m      4\u001b[0m \u001b[0mclass_train\u001b[0m \u001b[1;33m=\u001b[0m \u001b[0mnp\u001b[0m\u001b[1;33m.\u001b[0m\u001b[0marray\u001b[0m\u001b[1;33m(\u001b[0m\u001b[1;33m[\u001b[0m\u001b[1;33m]\u001b[0m\u001b[1;33m)\u001b[0m\u001b[1;33m\u001b[0m\u001b[1;33m\u001b[0m\u001b[0m\n\u001b[0;32m      5\u001b[0m \u001b[0mclass_test\u001b[0m  \u001b[1;33m=\u001b[0m \u001b[0mnp\u001b[0m\u001b[1;33m.\u001b[0m\u001b[0marray\u001b[0m\u001b[1;33m(\u001b[0m\u001b[1;33m[\u001b[0m\u001b[1;33m]\u001b[0m\u001b[1;33m)\u001b[0m\u001b[1;33m\u001b[0m\u001b[1;33m\u001b[0m\u001b[0m\n",
      "\u001b[1;31mAttributeError\u001b[0m: 'numpy.ndarray' object has no attribute 'values'"
     ]
    }
   ],
   "source": [
    "data_test = data_test.values\n",
    "data_train = data_train.values\n",
    "\n",
    "class_train = np.array([])\n",
    "class_test  = np.array([])\n",
    "for j in range(10):\n",
    "    for i in range(15):\n",
    "        class_test  = np.append(class_test,  j+1)\n",
    "        class_train = np.append(class_train, j+1)\n",
    "print(class_test)\n",
    "\n",
    "idx = np.arange(150)\n",
    "\n",
    "# Shuffle train data\n",
    "np.random.seed(21)\n",
    "np.random.shuffle(idx)\n",
    "data_train_shuf = data_train[idx]\n",
    "class_train_shuf = class_train[idx]\n",
    "\n",
    "#Shuffle test data\n",
    "np.random.seed(42)\n",
    "np.random.shuffle(idx)\n",
    "data_test_shuf = data_test[idx]\n",
    "class_test_shuf = class_test[idx]\n",
    "\n",
    "clf = RandomForestClassifier(n_estimators=numTrees, \n",
    "                             max_depth=maxDepth, \n",
    "                             max_features=maxFeatures,\n",
    "                             bootstrap=True,\n",
    "                             criterion=\"entropy\",\n",
    "                             random_state=21,\n",
    "                             n_jobs=-1)\n",
    "\n",
    "clf.fit(data_train_shuf, class_train_shuf)\n",
    "\n",
    "predictScore = clf.score(data_test_shuf, class_test_shuf)\n",
    "\n",
    "predictions = clf.predict(data_test_shuf)\n",
    "\n",
    "predict_probs = clf.predict_proba(data_test_shuf)\n"
   ]
  },
  {
   "cell_type": "code",
   "execution_count": null,
   "metadata": {},
   "outputs": [],
   "source": []
  }
 ],
 "metadata": {
  "kernelspec": {
   "display_name": "Python 3",
   "language": "python",
   "name": "python3"
  },
  "language_info": {
   "codemirror_mode": {
    "name": "ipython",
    "version": 3
   },
   "file_extension": ".py",
   "mimetype": "text/x-python",
   "name": "python",
   "nbconvert_exporter": "python",
   "pygments_lexer": "ipython3",
   "version": "3.7.1"
  }
 },
 "nbformat": 4,
 "nbformat_minor": 2
}
